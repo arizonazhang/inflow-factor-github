{
 "cells": [
  {
   "cell_type": "code",
   "execution_count": 1,
   "id": "60293cd8",
   "metadata": {},
   "outputs": [
    {
     "data": {
      "text/html": [
       "<script>\n",
       "code_show=true;\n",
       "function code_toggle() {\n",
       "if (code_show){\n",
       "$('div.input').hide();\n",
       "} else {\n",
       "$('div.input').show();\n",
       "}\n",
       "code_show = !code_show\n",
       "}\n",
       "$( document ).ready(code_toggle);\n",
       "</script>\n",
       "<form action=\"javascript:code_toggle()\"><input type=\"submit\" value=\"Click here to toggle on/off the raw code.\"></form>"
      ],
      "text/plain": [
       "<IPython.core.display.HTML object>"
      ]
     },
     "execution_count": 1,
     "metadata": {},
     "output_type": "execute_result"
    }
   ],
   "source": [
    "from IPython.display import HTML\n",
    "\n",
    "HTML('''<script>\n",
    "code_show=true;\n",
    "function code_toggle() {\n",
    "if (code_show){\n",
    "$('div.input').hide();\n",
    "} else {\n",
    "$('div.input').show();\n",
    "}\n",
    "code_show = !code_show\n",
    "}\n",
    "$( document ).ready(code_toggle);\n",
    "</script>\n",
    "<form action=\"javascript:code_toggle()\"><input type=\"submit\" value=\"Click here to toggle on/off the raw code.\"></form>''')"
   ]
  },
  {
   "cell_type": "code",
   "execution_count": 2,
   "id": "e0415445",
   "metadata": {
    "hide_input": true
   },
   "outputs": [],
   "source": [
    "#imports\n",
    "import pandas as pd\n",
    "import numpy as np\n",
    "import scipy.stats\n",
    "import matplotlib.pyplot as plt \n",
    "from pandas.plotting import autocorrelation_plot\n",
    "import statsmodels.api as sm\n",
    "from IPython.display import display"
   ]
  },
  {
   "cell_type": "code",
   "execution_count": 3,
   "id": "5429ac49",
   "metadata": {
    "hide_input": true
   },
   "outputs": [],
   "source": [
    "def plot_return(strat):\n",
    "    path = r'C:\\Users\\arizonazhang\\OneDrive - hkaift\\research\\capflow'\n",
    "    return_df = pd.read_csv(path+\"\\portfolios\\portfolio_sort_{}.csv\".format(strat))\n",
    "    fig, axes = plt.subplots(ncols = 3, nrows = 1, figsize = (15,4))\n",
    "    ls = [5, 10, 30]\n",
    "    for i in range(3):\n",
    "        monthly_df = return_df[(return_df.n==ls[i])&(return_df.m==ls[i])]\n",
    "        monthly_df = monthly_df.pivot(index='date', columns=[\"factor_rank\",\"mktcap_rank\"], values=\"ret\")\n",
    "        annual_df = (monthly_df+1).cumprod().iloc[-1,:].pow(225/1733)-1\n",
    "        annual_df.unstack(-2).plot.bar(colormap=\"Blues\", ax=axes[i], title=\"{}-day inflow v.s. {}-day return\".format(ls[i],ls[i]))\n",
    "    fig.suptitle(\"Annual Return of {} Inflow Factor 5-layer Portfolios\".format(strat))"
   ]
  },
  {
   "cell_type": "code",
   "execution_count": 3,
   "id": "b6fe3264",
   "metadata": {
    "hide_input": true
   },
   "outputs": [],
   "source": [
    "# plot functions for IC tables\n",
    "def summary_table(name, strat):\n",
    "    path = r'C:\\Users\\arizonazhang\\OneDrive - hkaift\\research\\capflow'\n",
    "    ls = []\n",
    "    for n in [5, 10 ,30]:\n",
    "        try:\n",
    "            corr = pd.read_csv(path+name.format(n),index_col=0)\n",
    "            for i in [5,10, 30]:\n",
    "                col = \"corr_\" + str(i)\n",
    "                means = [corr[col].rolling(5).mean()[i::5].mean() for i in range(5)]\n",
    "                stds = [corr[col].rolling(5).mean()[i::5].std() for i in range(5)]\n",
    "                irs = [means[i]/stds[i] for i in range(5)]\n",
    "                means.sort()\n",
    "                stds.sort()\n",
    "                irs.sort()\n",
    "                acf1 = sorted([corr[col].rolling(5).mean()[i::5].autocorr(lag=1) for i in range(5)])\n",
    "                acf2 = sorted([corr[col].rolling(5).mean()[i::5].autocorr(lag=2) for i in range(5)])\n",
    "                ls.append([n ,i, means[2], corr[col].median(), irs[2], stds[2], len(corr[(corr[col]>0)&(corr[\"p_\"+str(i)]<0.05)])/len(corr), acf1[2], acf2[2]])\n",
    "        except:\n",
    "            print(\"Failed to fetch data.\")\n",
    "    df = pd.DataFrame(ls,columns = [\"n-day inflow\",\"m-day return\",\"IC mean\", \"IC median\",\"IR\",\"std\",\">0(%)\",\"acf (lag=1)\",\"acf (lag=2)\"])\n",
    "    df = df.set_index([\"n-day inflow\",\"m-day return\"])\n",
    "    display(df.style.format('{:.4f}').set_caption(\"IC summary of the {} inflow factor\".format(strat)))\n",
    "    return(df)\n",
    "def ic_summary_plot(table):\n",
    "    fig, axes = plt.subplots(nrows = 1, ncols = 2, figsize=(10,4))\n",
    "    table = table.reset_index()\n",
    "    mean_table = table.pivot(index=\"m-day return\", columns = \"n-day inflow\", values=\"IC mean\")\n",
    "    mean_table.plot.bar(title=\"Mean correlation\", ax = axes[0])\n",
    "    median_table = table.pivot(index=\"m-day return\", columns = \"n-day inflow\", values=\"IC median\")\n",
    "    median_table.plot.bar(title=\"Median correlation\", ax = axes[1])\n",
    "    #ir_table = table.pivot(index=\"m-day return\", columns = \"n-day inflow\", values=\"IR\")\n",
    "   # ir_table.plot.bar(title=\"IR\", ax = axes[1,0])\n",
    "    #pos_table = table.pivot(index=\"m-day return\", columns = \"n-day inflow\", values=\">0(%)\")\n",
    "    #pos_table.plot.bar(title=\"Percentage of >0\", ax = axes[1,1])"
   ]
  },
  {
   "cell_type": "code",
   "execution_count": 5,
   "id": "8844e4f4",
   "metadata": {
    "hide_input": false
   },
   "outputs": [],
   "source": [
    "path = r'C:\\Users\\arizonazhang\\OneDrive - hkaift\\research\\capflow'\n",
    "def plot_backtest(file, n):\n",
    "    df = pd.read_csv(path + file, index_col = 0)\n",
    "    df = df.set_index(\"date\")\n",
    "    df.index = pd.to_datetime(df.index)\n",
    "    df.loc[df.strategy == \"delta\",\"strategy\"] = \"pure\"\n",
    "    fig,axes = plt.subplots(figsize = (20,5), nrows = 1, ncols = len(n))\n",
    "    ls = []\n",
    "    y = []\n",
    "    for i in range(len(n)):\n",
    "        cum_ret = df[df.n==n[i]].pivot(columns = \"strategy\", values = \"M\")\n",
    "        cum_ret.plot(ax = axes[i], title = \"Cumulative Return ({:d}-day inflow)\".format(n[i]))\n",
    "        ret = df[df.n==5*(i+1)].pivot(columns = \"strategy\", values = \"net_ret\")\n",
    "        d = {}\n",
    "        days = (cum_ret.index[-1] - cum_ret.index[0])/np.timedelta64(1, \"D\")\n",
    "        d[\"annualized return\"] = cum_ret.iloc[-1].pow(365/days)-1\n",
    "        d[\"annualized vol\"] = ret.std()*np.sqrt(25)\n",
    "        d[\"sharpe ratio\"] = d[\"annualized return\"]/d[\"annualized vol\"]\n",
    "        drawdown = cum_ret/cum_ret.rolling(1500,min_periods=1).max()-1\n",
    "        d[\"maximum drawdown\"] = drawdown.min()\n",
    "        d[\"t values\"] = ret.mean()/ret.std()*np.sqrt(ret.shape[0])\n",
    "        ls.append(d)\n",
    "        yearly = (ret+1).groupby(ret.index.year).prod()-1\n",
    "        y.append(yearly)\n",
    "        quarterly = (ret+1).groupby([ret.index.year, ret.index.month])\n",
    "    return y, ls\n",
    "\n",
    "def summary_table2(ls):\n",
    "    df1 = pd.DataFrame.from_dict(ls[0], orient=\"index\")\n",
    "    df2 = pd.DataFrame.from_dict(ls[1], orient=\"index\")\n",
    "    display(df1.style.format('{:.2%}').set_caption(\"Summary Table (5-day inflow)\").background_gradient(\"Blues\",axis=1))\n",
    "    display(df2.style.format('{:.2%}').set_caption(\"Summary Table (10-day inflow)\").background_gradient(\"Blues\",axis=1))\n",
    "    \n",
    "def summary_tables3(y):\n",
    "    display(y[0].style.format('{:.2%}').set_caption(\"Annual Returns (5-day inflow)\").background_gradient(\"Blues\",axis=1))\n",
    "    display(y[1].style.format('{:.2%}').set_caption(\"Annual Returns (10-day inflow)\").background_gradient(\"Blues\",axis=1))\n",
    "    \n",
    "def plot_percentage():\n",
    "    ls = []\n",
    "    for i in [25, 50, 100]:\n",
    "        df = pd.read_csv(path + r'\\long_short\\return_v2_{}.csv'.format(i), index_col = 0)\n",
    "        df = df.set_index(\"date\")\n",
    "        df.index = pd.to_datetime(df.index)\n",
    "        df.loc[df.strategy == \"delta\",\"strategy\"] = \"pure\"\n",
    "        ls.append(df[(df.n==10)&(df.strategy==\"pure\")].pivot(columns = \"strategy\", values = \"M\"))\n",
    "    df_all = pd.concat(ls, axis =1)\n",
    "    df_all.columns = [\"2.5%\",\"5%\",\"10%\"]\n",
    "    df_all.plot(title='')"
   ]
  },
  {
   "cell_type": "code",
   "execution_count": 6,
   "id": "d3315846",
   "metadata": {
    "hide_input": false
   },
   "outputs": [],
   "source": [
    "total_ret = lambda x: x.dropna()[-1]\n",
    "annual_ret = lambda x: x.dropna()[-1]**(365/((x.index[-1] - x.index[0])/np.timedelta64(1, \"D\")))-1\n",
    "vol = lambda x: x.dropna().std()*np.sqrt(25)\n",
    "sharpe = lambda x: annual_ret(x)/vol(x)\n",
    "mdd = lambda x: (x.dropna()/x.dropna().rolling(200, min_periods=1).max()-1).min()\n",
    "tvalue = lambda x: x.dropna().mean()/x.dropna().std()*np.sqrt(len(x.dropna()))\n",
    "ret_year = lambda x:(x.dropna()+1).groupby([x.dropna().index.year,x.dropna().index.month]).prod()-1"
   ]
  },
  {
   "cell_type": "markdown",
   "id": "8bb92f8c",
   "metadata": {},
   "source": [
    "# Background\n",
    "Following a study of southbound inflow through the stock connect system with respect to the overall market, we found that information contained in this factor helps us to time the general market effectively. Therefore, we would like to investigate the effect of southbound money inflow in relation to single stock returns and build a strategy to make use of the information.\n",
    "\n",
    "There are **two possible explanation** for the southbound money information.\n",
    "1. Mainland investors mainly use stock connect to invest in mainland companies that are listed in HKSE. As compared to foreign investors, they have the edge in obtaining more information and hence their trade movements could be valuable.\n",
    "2. When mainland funds need to long a large amounts of a stock, the constant trade would result in a short-term momentum of the stock price, leaving opportunity to extract value."
   ]
  },
  {
   "cell_type": "markdown",
   "id": "a6c59ef7",
   "metadata": {},
   "source": [
    "# The Pure Inflow Factor"
   ]
  },
  {
   "cell_type": "markdown",
   "id": "d9e9f722",
   "metadata": {},
   "source": [
    "The inflow factor measures the amount of capital traded by mainland investors, i.e. the change in investor holdings in single stocks. We calculated this factor by multiplying the change of shares held by mainland investors multiplied by the proxy price of the stock, which is the average of open, high, low and close price. "
   ]
  },
  {
   "cell_type": "markdown",
   "id": "33353aea",
   "metadata": {},
   "source": [
    "## Correlation Study\n",
    "\n",
    "To understand its relationship with stock return, we computed the **Information Coefficient (IC)** of the 5-day, 10-day and 30-day inflow factor over time. \n",
    "\n",
    "The **calculation horizon** starts from 2017/03/20 to 2022/02/24 and the **stock universe** is all the stocks listed in stock connect.\n",
    "\n",
    "Before calculation, we made the following **adjustments** to avoid outliers in our samples:\n",
    "1. winsorize and standardize the factor values before computation\n",
    "2. excludes stocks that have just been included in the stock connect in the past 60 trading days\n",
    "3. excluded stocks that would be moved out from the stock connect in the past 60 trading days\n",
    "\n",
    "Due to the **T+2 settlement mechanism**, the inflow information would only be known after 2 days. Hence, the return computed would start from 2 days after the actual inflow day. Return used in the investigation is calculated using the close price on T+2 and the close price on T+7, T+12 and T+32.\n",
    "\n",
    "The table below summarize the results from the calculation. \n",
    "1. \">(%)\" calculates the number of correlations that are greater than 0 and have a p-value smaller than 0.05\n",
    "2. \"acf (lag=k)\" computes the autocorrelation of the correlation of the **non-overlapping correlation** time series\n",
    "3. IC mean takes the median of five means calculated from the 5 non-overlapping correlation time series"
   ]
  },
  {
   "cell_type": "code",
   "execution_count": 7,
   "id": "2045e319",
   "metadata": {
    "hide_input": false,
    "scrolled": false
   },
   "outputs": [
    {
     "data": {
      "text/html": [
       "<style type=\"text/css\">\n",
       "</style>\n",
       "<table id=\"T_cbe3d_\">\n",
       "  <caption>IC summary of the pure inflow factor</caption>\n",
       "  <thead>\n",
       "    <tr>\n",
       "      <th class=\"blank\" >&nbsp;</th>\n",
       "      <th class=\"blank level0\" >&nbsp;</th>\n",
       "      <th class=\"col_heading level0 col0\" >IC mean</th>\n",
       "      <th class=\"col_heading level0 col1\" >IC median</th>\n",
       "      <th class=\"col_heading level0 col2\" >IR</th>\n",
       "      <th class=\"col_heading level0 col3\" >std</th>\n",
       "      <th class=\"col_heading level0 col4\" >>0(%)</th>\n",
       "      <th class=\"col_heading level0 col5\" >acf (lag=1)</th>\n",
       "      <th class=\"col_heading level0 col6\" >acf (lag=2)</th>\n",
       "    </tr>\n",
       "    <tr>\n",
       "      <th class=\"index_name level0\" >n-day inflow</th>\n",
       "      <th class=\"index_name level1\" >m-day return</th>\n",
       "      <th class=\"blank col0\" >&nbsp;</th>\n",
       "      <th class=\"blank col1\" >&nbsp;</th>\n",
       "      <th class=\"blank col2\" >&nbsp;</th>\n",
       "      <th class=\"blank col3\" >&nbsp;</th>\n",
       "      <th class=\"blank col4\" >&nbsp;</th>\n",
       "      <th class=\"blank col5\" >&nbsp;</th>\n",
       "      <th class=\"blank col6\" >&nbsp;</th>\n",
       "    </tr>\n",
       "  </thead>\n",
       "  <tbody>\n",
       "    <tr>\n",
       "      <th id=\"T_cbe3d_level0_row0\" class=\"row_heading level0 row0\" rowspan=\"3\">5</th>\n",
       "      <th id=\"T_cbe3d_level1_row0\" class=\"row_heading level1 row0\" >5</th>\n",
       "      <td id=\"T_cbe3d_row0_col0\" class=\"data row0 col0\" >0.0229</td>\n",
       "      <td id=\"T_cbe3d_row0_col1\" class=\"data row0 col1\" >0.0235</td>\n",
       "      <td id=\"T_cbe3d_row0_col2\" class=\"data row0 col2\" >0.4514</td>\n",
       "      <td id=\"T_cbe3d_row0_col3\" class=\"data row0 col3\" >0.0508</td>\n",
       "      <td id=\"T_cbe3d_row0_col4\" class=\"data row0 col4\" >0.1713</td>\n",
       "      <td id=\"T_cbe3d_row0_col5\" class=\"data row0 col5\" >0.2486</td>\n",
       "      <td id=\"T_cbe3d_row0_col6\" class=\"data row0 col6\" >-0.0126</td>\n",
       "    </tr>\n",
       "    <tr>\n",
       "      <th id=\"T_cbe3d_level1_row1\" class=\"row_heading level1 row1\" >10</th>\n",
       "      <td id=\"T_cbe3d_row1_col0\" class=\"data row1 col0\" >0.0298</td>\n",
       "      <td id=\"T_cbe3d_row1_col1\" class=\"data row1 col1\" >0.0324</td>\n",
       "      <td id=\"T_cbe3d_row1_col2\" class=\"data row1 col2\" >0.5244</td>\n",
       "      <td id=\"T_cbe3d_row1_col3\" class=\"data row1 col3\" >0.0568</td>\n",
       "      <td id=\"T_cbe3d_row1_col4\" class=\"data row1 col4\" >0.2111</td>\n",
       "      <td id=\"T_cbe3d_row1_col5\" class=\"data row1 col5\" >0.4630</td>\n",
       "      <td id=\"T_cbe3d_row1_col6\" class=\"data row1 col6\" >0.0745</td>\n",
       "    </tr>\n",
       "    <tr>\n",
       "      <th id=\"T_cbe3d_level1_row2\" class=\"row_heading level1 row2\" >30</th>\n",
       "      <td id=\"T_cbe3d_row2_col0\" class=\"data row2 col0\" >0.0318</td>\n",
       "      <td id=\"T_cbe3d_row2_col1\" class=\"data row2 col1\" >0.0336</td>\n",
       "      <td id=\"T_cbe3d_row2_col2\" class=\"data row2 col2\" >0.5777</td>\n",
       "      <td id=\"T_cbe3d_row2_col3\" class=\"data row2 col3\" >0.0549</td>\n",
       "      <td id=\"T_cbe3d_row2_col4\" class=\"data row2 col4\" >0.1972</td>\n",
       "      <td id=\"T_cbe3d_row2_col5\" class=\"data row2 col5\" >0.6233</td>\n",
       "      <td id=\"T_cbe3d_row2_col6\" class=\"data row2 col6\" >0.4005</td>\n",
       "    </tr>\n",
       "    <tr>\n",
       "      <th id=\"T_cbe3d_level0_row3\" class=\"row_heading level0 row3\" rowspan=\"3\">10</th>\n",
       "      <th id=\"T_cbe3d_level1_row3\" class=\"row_heading level1 row3\" >5</th>\n",
       "      <td id=\"T_cbe3d_row3_col0\" class=\"data row3 col0\" >0.0232</td>\n",
       "      <td id=\"T_cbe3d_row3_col1\" class=\"data row3 col1\" >0.0232</td>\n",
       "      <td id=\"T_cbe3d_row3_col2\" class=\"data row3 col2\" >0.4322</td>\n",
       "      <td id=\"T_cbe3d_row3_col3\" class=\"data row3 col3\" >0.0539</td>\n",
       "      <td id=\"T_cbe3d_row3_col4\" class=\"data row3 col4\" >0.2009</td>\n",
       "      <td id=\"T_cbe3d_row3_col5\" class=\"data row3 col5\" >0.2726</td>\n",
       "      <td id=\"T_cbe3d_row3_col6\" class=\"data row3 col6\" >-0.0502</td>\n",
       "    </tr>\n",
       "    <tr>\n",
       "      <th id=\"T_cbe3d_level1_row4\" class=\"row_heading level1 row4\" >10</th>\n",
       "      <td id=\"T_cbe3d_row4_col0\" class=\"data row4 col0\" >0.0283</td>\n",
       "      <td id=\"T_cbe3d_row4_col1\" class=\"data row4 col1\" >0.0293</td>\n",
       "      <td id=\"T_cbe3d_row4_col2\" class=\"data row4 col2\" >0.4801</td>\n",
       "      <td id=\"T_cbe3d_row4_col3\" class=\"data row4 col3\" >0.0591</td>\n",
       "      <td id=\"T_cbe3d_row4_col4\" class=\"data row4 col4\" >0.2186</td>\n",
       "      <td id=\"T_cbe3d_row4_col5\" class=\"data row4 col5\" >0.4818</td>\n",
       "      <td id=\"T_cbe3d_row4_col6\" class=\"data row4 col6\" >0.0456</td>\n",
       "    </tr>\n",
       "    <tr>\n",
       "      <th id=\"T_cbe3d_level1_row5\" class=\"row_heading level1 row5\" >30</th>\n",
       "      <td id=\"T_cbe3d_row5_col0\" class=\"data row5 col0\" >0.0298</td>\n",
       "      <td id=\"T_cbe3d_row5_col1\" class=\"data row5 col1\" >0.0325</td>\n",
       "      <td id=\"T_cbe3d_row5_col2\" class=\"data row5 col2\" >0.4991</td>\n",
       "      <td id=\"T_cbe3d_row5_col3\" class=\"data row5 col3\" >0.0598</td>\n",
       "      <td id=\"T_cbe3d_row5_col4\" class=\"data row5 col4\" >0.1926</td>\n",
       "      <td id=\"T_cbe3d_row5_col5\" class=\"data row5 col5\" >0.7266</td>\n",
       "      <td id=\"T_cbe3d_row5_col6\" class=\"data row5 col6\" >0.4669</td>\n",
       "    </tr>\n",
       "    <tr>\n",
       "      <th id=\"T_cbe3d_level0_row6\" class=\"row_heading level0 row6\" rowspan=\"3\">30</th>\n",
       "      <th id=\"T_cbe3d_level1_row6\" class=\"row_heading level1 row6\" >5</th>\n",
       "      <td id=\"T_cbe3d_row6_col0\" class=\"data row6 col0\" >0.0158</td>\n",
       "      <td id=\"T_cbe3d_row6_col1\" class=\"data row6 col1\" >0.0197</td>\n",
       "      <td id=\"T_cbe3d_row6_col2\" class=\"data row6 col2\" >0.2883</td>\n",
       "      <td id=\"T_cbe3d_row6_col3\" class=\"data row6 col3\" >0.0549</td>\n",
       "      <td id=\"T_cbe3d_row6_col4\" class=\"data row6 col4\" >0.1673</td>\n",
       "      <td id=\"T_cbe3d_row6_col5\" class=\"data row6 col5\" >0.2560</td>\n",
       "      <td id=\"T_cbe3d_row6_col6\" class=\"data row6 col6\" >0.0151</td>\n",
       "    </tr>\n",
       "    <tr>\n",
       "      <th id=\"T_cbe3d_level1_row7\" class=\"row_heading level1 row7\" >10</th>\n",
       "      <td id=\"T_cbe3d_row7_col0\" class=\"data row7 col0\" >0.0210</td>\n",
       "      <td id=\"T_cbe3d_row7_col1\" class=\"data row7 col1\" >0.0236</td>\n",
       "      <td id=\"T_cbe3d_row7_col2\" class=\"data row7 col2\" >0.3401</td>\n",
       "      <td id=\"T_cbe3d_row7_col3\" class=\"data row7 col3\" >0.0617</td>\n",
       "      <td id=\"T_cbe3d_row7_col4\" class=\"data row7 col4\" >0.1805</td>\n",
       "      <td id=\"T_cbe3d_row7_col5\" class=\"data row7 col5\" >0.5290</td>\n",
       "      <td id=\"T_cbe3d_row7_col6\" class=\"data row7 col6\" >0.0877</td>\n",
       "    </tr>\n",
       "    <tr>\n",
       "      <th id=\"T_cbe3d_level1_row8\" class=\"row_heading level1 row8\" >30</th>\n",
       "      <td id=\"T_cbe3d_row8_col0\" class=\"data row8 col0\" >0.0250</td>\n",
       "      <td id=\"T_cbe3d_row8_col1\" class=\"data row8 col1\" >0.0225</td>\n",
       "      <td id=\"T_cbe3d_row8_col2\" class=\"data row8 col2\" >0.3930</td>\n",
       "      <td id=\"T_cbe3d_row8_col3\" class=\"data row8 col3\" >0.0636</td>\n",
       "      <td id=\"T_cbe3d_row8_col4\" class=\"data row8 col4\" >0.1928</td>\n",
       "      <td id=\"T_cbe3d_row8_col5\" class=\"data row8 col5\" >0.8114</td>\n",
       "      <td id=\"T_cbe3d_row8_col6\" class=\"data row8 col6\" >0.5618</td>\n",
       "    </tr>\n",
       "  </tbody>\n",
       "</table>\n"
      ],
      "text/plain": [
       "<pandas.io.formats.style.Styler at 0x24a22638488>"
      ]
     },
     "metadata": {},
     "output_type": "display_data"
    }
   ],
   "source": [
    "table = summary_table(\"\\correlations\\correlation_{:d}d_v4.csv\",\"pure\")"
   ]
  },
  {
   "cell_type": "code",
   "execution_count": 8,
   "id": "1c159d5d",
   "metadata": {
    "hide_input": true
   },
   "outputs": [
    {
     "data": {
      "image/png": "[encoded data removed]",
      "text/plain": [
       "<Figure size 720x288 with 2 Axes>"
      ]
     },
     "metadata": {
      "needs_background": "light"
     },
     "output_type": "display_data"
    }
   ],
   "source": [
    "ic_summary_plot(table)"
   ]
  },
  {
   "cell_type": "markdown",
   "id": "24d281ad",
   "metadata": {},
   "source": [
    "**Finding**: As we could see, IC pf 5- and 10-day inflow factor are around 0.02-0.03, which is above the threshold for effective factor. 5-day inflow has the highest IC with 5- to 30-day return and the correlation increases with the return horizon increases. However, the correlation increase slows down when return horizon increases from 10- to 30- days, which is likely due to alpha decay."
   ]
  },
  {
   "cell_type": "markdown",
   "id": "3a57ea44",
   "metadata": {},
   "source": [
    "## Layer Portfolio Construction\n",
    "To further investigate factor return, we constructed a 5-layer portfolio and computed portfolio return overtime. Calculation periods and stock universe are the same as above.\n",
    "\n",
    "Annual return of the 5-layer portfolios tested on different time horizon are shown below. Stocks with the largest inflow belongs to group 5 while stocks with largest outflow belongs to group 1."
   ]
  },
  {
   "cell_type": "code",
   "execution_count": 9,
   "id": "2b7c82bc",
   "metadata": {
    "hide_input": true,
    "scrolled": false
   },
   "outputs": [
    {
     "data": {
      "image/png": "[encoded data removed]",
      "text/plain": [
       "<Figure size 1080x288 with 3 Axes>"
      ]
     },
     "metadata": {
      "needs_background": "light"
     },
     "output_type": "display_data"
    }
   ],
   "source": [
    "plot_return(\"pure\")"
   ]
  },
  {
   "cell_type": "markdown",
   "id": "fc933149",
   "metadata": {},
   "source": [
    "**Finding**: To our surprise, portfolios in the two ends, i.e. the portfolio containing most inflow and the portfolio containing the most outflow outperform other groups. It seems like the porfolio in the middle contain much less information as compared to the end ones. Intuitively, stocks that are inactively traded are usually small-cap or not in the interest of mainland investors. Hence, there are two possible ways to improve the factor.\n",
    "1. neutralize market cap influence of this factor. Since large-cap stocks are inevitably more actively traded, excluding market-cap influence might help us understand more about this factor.\n",
    "2. study the factor on the stocks that have large inflow or outflow, i.e. distributed in the tails."
   ]
  },
  {
   "cell_type": "markdown",
   "id": "e9c6b0f1",
   "metadata": {},
   "source": [
    "# Improvements"
   ]
  },
  {
   "cell_type": "markdown",
   "id": "42c4363d",
   "metadata": {},
   "source": [
    "## Neutralization\n",
    "In extracting market cap influence, we come up with the following two factors:\n",
    "\n",
    "**1. neutralized factor (\"neu\")**\n",
    "\n",
    "Neutralized factor is calculated as follows:\n",
    "\n",
    "$Y_t = \\theta_0 + \\theta_1 Ln(MV)_t + neu_t$ where $Y_t$ denotes the inflow amount at time $t$\n",
    "\n",
    "**2. absolute neutralized factor (\"absneu\")**\n",
    "\n",
    "another model is proposed to extract market value exposure from the absolute amount of the inflow amount. The flow direction (i.e. the signs) is then multiplied back to the residual. Intuitively, large-cap stocks should have both large inflow and outflow.\n",
    "\n",
    "$|Y_t| = \\beta_0 + \\beta_1 Ln(MV_t) + e_t$\n",
    "\n",
    "$absneu_t = e_t \\frac{Y_t}{|Y_t|}$\n",
    "\n",
    "IC summaries of the two factors are shown below."
   ]
  },
  {
   "cell_type": "code",
   "execution_count": 10,
   "id": "abf45632",
   "metadata": {},
   "outputs": [
    {
     "data": {
      "text/html": [
       "<style type=\"text/css\">\n",
       "</style>\n",
       "<table id=\"T_05b78_\">\n",
       "  <caption>IC summary of the neu inflow factor</caption>\n",
       "  <thead>\n",
       "    <tr>\n",
       "      <th class=\"blank\" >&nbsp;</th>\n",
       "      <th class=\"blank level0\" >&nbsp;</th>\n",
       "      <th class=\"col_heading level0 col0\" >IC mean</th>\n",
       "      <th class=\"col_heading level0 col1\" >IC median</th>\n",
       "      <th class=\"col_heading level0 col2\" >IR</th>\n",
       "      <th class=\"col_heading level0 col3\" >std</th>\n",
       "      <th class=\"col_heading level0 col4\" >>0(%)</th>\n",
       "      <th class=\"col_heading level0 col5\" >acf (lag=1)</th>\n",
       "      <th class=\"col_heading level0 col6\" >acf (lag=2)</th>\n",
       "    </tr>\n",
       "    <tr>\n",
       "      <th class=\"index_name level0\" >n-day inflow</th>\n",
       "      <th class=\"index_name level1\" >m-day return</th>\n",
       "      <th class=\"blank col0\" >&nbsp;</th>\n",
       "      <th class=\"blank col1\" >&nbsp;</th>\n",
       "      <th class=\"blank col2\" >&nbsp;</th>\n",
       "      <th class=\"blank col3\" >&nbsp;</th>\n",
       "      <th class=\"blank col4\" >&nbsp;</th>\n",
       "      <th class=\"blank col5\" >&nbsp;</th>\n",
       "      <th class=\"blank col6\" >&nbsp;</th>\n",
       "    </tr>\n",
       "  </thead>\n",
       "  <tbody>\n",
       "    <tr>\n",
       "      <th id=\"T_05b78_level0_row0\" class=\"row_heading level0 row0\" rowspan=\"3\">5</th>\n",
       "      <th id=\"T_05b78_level1_row0\" class=\"row_heading level1 row0\" >5</th>\n",
       "      <td id=\"T_05b78_row0_col0\" class=\"data row0 col0\" >0.0104</td>\n",
       "      <td id=\"T_05b78_row0_col1\" class=\"data row0 col1\" >0.0106</td>\n",
       "      <td id=\"T_05b78_row0_col2\" class=\"data row0 col2\" >0.1924</td>\n",
       "      <td id=\"T_05b78_row0_col3\" class=\"data row0 col3\" >0.0542</td>\n",
       "      <td id=\"T_05b78_row0_col4\" class=\"data row0 col4\" >0.1397</td>\n",
       "      <td id=\"T_05b78_row0_col5\" class=\"data row0 col5\" >0.2223</td>\n",
       "      <td id=\"T_05b78_row0_col6\" class=\"data row0 col6\" >-0.0325</td>\n",
       "    </tr>\n",
       "    <tr>\n",
       "      <th id=\"T_05b78_level1_row1\" class=\"row_heading level1 row1\" >10</th>\n",
       "      <td id=\"T_05b78_row1_col0\" class=\"data row1 col0\" >0.0137</td>\n",
       "      <td id=\"T_05b78_row1_col1\" class=\"data row1 col1\" >0.0161</td>\n",
       "      <td id=\"T_05b78_row1_col2\" class=\"data row1 col2\" >0.2144</td>\n",
       "      <td id=\"T_05b78_row1_col3\" class=\"data row1 col3\" >0.0640</td>\n",
       "      <td id=\"T_05b78_row1_col4\" class=\"data row1 col4\" >0.1665</td>\n",
       "      <td id=\"T_05b78_row1_col5\" class=\"data row1 col5\" >0.4370</td>\n",
       "      <td id=\"T_05b78_row1_col6\" class=\"data row1 col6\" >0.0472</td>\n",
       "    </tr>\n",
       "    <tr>\n",
       "      <th id=\"T_05b78_level1_row2\" class=\"row_heading level1 row2\" >30</th>\n",
       "      <td id=\"T_05b78_row2_col0\" class=\"data row2 col0\" >0.0109</td>\n",
       "      <td id=\"T_05b78_row2_col1\" class=\"data row2 col1\" >0.0136</td>\n",
       "      <td id=\"T_05b78_row2_col2\" class=\"data row2 col2\" >0.1551</td>\n",
       "      <td id=\"T_05b78_row2_col3\" class=\"data row2 col3\" >0.0698</td>\n",
       "      <td id=\"T_05b78_row2_col4\" class=\"data row2 col4\" >0.1425</td>\n",
       "      <td id=\"T_05b78_row2_col5\" class=\"data row2 col5\" >0.6454</td>\n",
       "      <td id=\"T_05b78_row2_col6\" class=\"data row2 col6\" >0.3702</td>\n",
       "    </tr>\n",
       "    <tr>\n",
       "      <th id=\"T_05b78_level0_row3\" class=\"row_heading level0 row3\" rowspan=\"3\">10</th>\n",
       "      <th id=\"T_05b78_level1_row3\" class=\"row_heading level1 row3\" >5</th>\n",
       "      <td id=\"T_05b78_row3_col0\" class=\"data row3 col0\" >0.0099</td>\n",
       "      <td id=\"T_05b78_row3_col1\" class=\"data row3 col1\" >0.0096</td>\n",
       "      <td id=\"T_05b78_row3_col2\" class=\"data row3 col2\" >0.1688</td>\n",
       "      <td id=\"T_05b78_row3_col3\" class=\"data row3 col3\" >0.0589</td>\n",
       "      <td id=\"T_05b78_row3_col4\" class=\"data row3 col4\" >0.1552</td>\n",
       "      <td id=\"T_05b78_row3_col5\" class=\"data row3 col5\" >0.2419</td>\n",
       "      <td id=\"T_05b78_row3_col6\" class=\"data row3 col6\" >-0.0145</td>\n",
       "    </tr>\n",
       "    <tr>\n",
       "      <th id=\"T_05b78_level1_row4\" class=\"row_heading level1 row4\" >10</th>\n",
       "      <td id=\"T_05b78_row4_col0\" class=\"data row4 col0\" >0.0099</td>\n",
       "      <td id=\"T_05b78_row4_col1\" class=\"data row4 col1\" >0.0174</td>\n",
       "      <td id=\"T_05b78_row4_col2\" class=\"data row4 col2\" >0.1458</td>\n",
       "      <td id=\"T_05b78_row4_col3\" class=\"data row4 col3\" >0.0678</td>\n",
       "      <td id=\"T_05b78_row4_col4\" class=\"data row4 col4\" >0.1561</td>\n",
       "      <td id=\"T_05b78_row4_col5\" class=\"data row4 col5\" >0.4814</td>\n",
       "      <td id=\"T_05b78_row4_col6\" class=\"data row4 col6\" >0.0842</td>\n",
       "    </tr>\n",
       "    <tr>\n",
       "      <th id=\"T_05b78_level1_row5\" class=\"row_heading level1 row5\" >30</th>\n",
       "      <td id=\"T_05b78_row5_col0\" class=\"data row5 col0\" >0.0076</td>\n",
       "      <td id=\"T_05b78_row5_col1\" class=\"data row5 col1\" >0.0113</td>\n",
       "      <td id=\"T_05b78_row5_col2\" class=\"data row5 col2\" >0.1022</td>\n",
       "      <td id=\"T_05b78_row5_col3\" class=\"data row5 col3\" >0.0743</td>\n",
       "      <td id=\"T_05b78_row5_col4\" class=\"data row5 col4\" >0.1673</td>\n",
       "      <td id=\"T_05b78_row5_col5\" class=\"data row5 col5\" >0.7380</td>\n",
       "      <td id=\"T_05b78_row5_col6\" class=\"data row5 col6\" >0.4619</td>\n",
       "    </tr>\n",
       "    <tr>\n",
       "      <th id=\"T_05b78_level0_row6\" class=\"row_heading level0 row6\" rowspan=\"3\">30</th>\n",
       "      <th id=\"T_05b78_level1_row6\" class=\"row_heading level1 row6\" >5</th>\n",
       "      <td id=\"T_05b78_row6_col0\" class=\"data row6 col0\" >0.0019</td>\n",
       "      <td id=\"T_05b78_row6_col1\" class=\"data row6 col1\" >0.0034</td>\n",
       "      <td id=\"T_05b78_row6_col2\" class=\"data row6 col2\" >0.0305</td>\n",
       "      <td id=\"T_05b78_row6_col3\" class=\"data row6 col3\" >0.0612</td>\n",
       "      <td id=\"T_05b78_row6_col4\" class=\"data row6 col4\" >0.1341</td>\n",
       "      <td id=\"T_05b78_row6_col5\" class=\"data row6 col5\" >0.3151</td>\n",
       "      <td id=\"T_05b78_row6_col6\" class=\"data row6 col6\" >0.0658</td>\n",
       "    </tr>\n",
       "    <tr>\n",
       "      <th id=\"T_05b78_level1_row7\" class=\"row_heading level1 row7\" >10</th>\n",
       "      <td id=\"T_05b78_row7_col0\" class=\"data row7 col0\" >0.0010</td>\n",
       "      <td id=\"T_05b78_row7_col1\" class=\"data row7 col1\" >0.0053</td>\n",
       "      <td id=\"T_05b78_row7_col2\" class=\"data row7 col2\" >0.0140</td>\n",
       "      <td id=\"T_05b78_row7_col3\" class=\"data row7 col3\" >0.0712</td>\n",
       "      <td id=\"T_05b78_row7_col4\" class=\"data row7 col4\" >0.1398</td>\n",
       "      <td id=\"T_05b78_row7_col5\" class=\"data row7 col5\" >0.6066</td>\n",
       "      <td id=\"T_05b78_row7_col6\" class=\"data row7 col6\" >0.1993</td>\n",
       "    </tr>\n",
       "    <tr>\n",
       "      <th id=\"T_05b78_level1_row8\" class=\"row_heading level1 row8\" >30</th>\n",
       "      <td id=\"T_05b78_row8_col0\" class=\"data row8 col0\" >-0.0006</td>\n",
       "      <td id=\"T_05b78_row8_col1\" class=\"data row8 col1\" >-0.0024</td>\n",
       "      <td id=\"T_05b78_row8_col2\" class=\"data row8 col2\" >-0.0076</td>\n",
       "      <td id=\"T_05b78_row8_col3\" class=\"data row8 col3\" >0.0784</td>\n",
       "      <td id=\"T_05b78_row8_col4\" class=\"data row8 col4\" >0.1511</td>\n",
       "      <td id=\"T_05b78_row8_col5\" class=\"data row8 col5\" >0.8482</td>\n",
       "      <td id=\"T_05b78_row8_col6\" class=\"data row8 col6\" >0.6170</td>\n",
       "    </tr>\n",
       "  </tbody>\n",
       "</table>\n"
      ],
      "text/plain": [
       "<pandas.io.formats.style.Styler at 0x24a239cab88>"
      ]
     },
     "metadata": {},
     "output_type": "display_data"
    }
   ],
   "source": [
    "table = summary_table(\"\\correlations\\correlation_neu_{:d}d_v4.csv\",\"neu\")"
   ]
  },
  {
   "cell_type": "code",
   "execution_count": 11,
   "id": "901e9a32",
   "metadata": {
    "scrolled": true
   },
   "outputs": [
    {
     "data": {
      "text/html": [
       "<style type=\"text/css\">\n",
       "</style>\n",
       "<table id=\"T_0b2aa_\">\n",
       "  <caption>IC summary of the absneu inflow factor</caption>\n",
       "  <thead>\n",
       "    <tr>\n",
       "      <th class=\"blank\" >&nbsp;</th>\n",
       "      <th class=\"blank level0\" >&nbsp;</th>\n",
       "      <th class=\"col_heading level0 col0\" >IC mean</th>\n",
       "      <th class=\"col_heading level0 col1\" >IC median</th>\n",
       "      <th class=\"col_heading level0 col2\" >IR</th>\n",
       "      <th class=\"col_heading level0 col3\" >std</th>\n",
       "      <th class=\"col_heading level0 col4\" >>0(%)</th>\n",
       "      <th class=\"col_heading level0 col5\" >acf (lag=1)</th>\n",
       "      <th class=\"col_heading level0 col6\" >acf (lag=2)</th>\n",
       "    </tr>\n",
       "    <tr>\n",
       "      <th class=\"index_name level0\" >n-day inflow</th>\n",
       "      <th class=\"index_name level1\" >m-day return</th>\n",
       "      <th class=\"blank col0\" >&nbsp;</th>\n",
       "      <th class=\"blank col1\" >&nbsp;</th>\n",
       "      <th class=\"blank col2\" >&nbsp;</th>\n",
       "      <th class=\"blank col3\" >&nbsp;</th>\n",
       "      <th class=\"blank col4\" >&nbsp;</th>\n",
       "      <th class=\"blank col5\" >&nbsp;</th>\n",
       "      <th class=\"blank col6\" >&nbsp;</th>\n",
       "    </tr>\n",
       "  </thead>\n",
       "  <tbody>\n",
       "    <tr>\n",
       "      <th id=\"T_0b2aa_level0_row0\" class=\"row_heading level0 row0\" rowspan=\"3\">5</th>\n",
       "      <th id=\"T_0b2aa_level1_row0\" class=\"row_heading level1 row0\" >5</th>\n",
       "      <td id=\"T_0b2aa_row0_col0\" class=\"data row0 col0\" >0.0187</td>\n",
       "      <td id=\"T_0b2aa_row0_col1\" class=\"data row0 col1\" >0.0152</td>\n",
       "      <td id=\"T_0b2aa_row0_col2\" class=\"data row0 col2\" >0.4130</td>\n",
       "      <td id=\"T_0b2aa_row0_col3\" class=\"data row0 col3\" >0.0454</td>\n",
       "      <td id=\"T_0b2aa_row0_col4\" class=\"data row0 col4\" >0.1415</td>\n",
       "      <td id=\"T_0b2aa_row0_col5\" class=\"data row0 col5\" >0.1762</td>\n",
       "      <td id=\"T_0b2aa_row0_col6\" class=\"data row0 col6\" >0.0935</td>\n",
       "    </tr>\n",
       "    <tr>\n",
       "      <th id=\"T_0b2aa_level1_row1\" class=\"row_heading level1 row1\" >10</th>\n",
       "      <td id=\"T_0b2aa_row1_col0\" class=\"data row1 col0\" >0.0198</td>\n",
       "      <td id=\"T_0b2aa_row1_col1\" class=\"data row1 col1\" >0.0189</td>\n",
       "      <td id=\"T_0b2aa_row1_col2\" class=\"data row1 col2\" >0.3855</td>\n",
       "      <td id=\"T_0b2aa_row1_col3\" class=\"data row1 col3\" >0.0510</td>\n",
       "      <td id=\"T_0b2aa_row1_col4\" class=\"data row1 col4\" >0.1554</td>\n",
       "      <td id=\"T_0b2aa_row1_col5\" class=\"data row1 col5\" >0.4615</td>\n",
       "      <td id=\"T_0b2aa_row1_col6\" class=\"data row1 col6\" >0.1827</td>\n",
       "    </tr>\n",
       "    <tr>\n",
       "      <th id=\"T_0b2aa_level1_row2\" class=\"row_heading level1 row2\" >30</th>\n",
       "      <td id=\"T_0b2aa_row2_col0\" class=\"data row2 col0\" >0.0170</td>\n",
       "      <td id=\"T_0b2aa_row2_col1\" class=\"data row2 col1\" >0.0177</td>\n",
       "      <td id=\"T_0b2aa_row2_col2\" class=\"data row2 col2\" >0.2979</td>\n",
       "      <td id=\"T_0b2aa_row2_col3\" class=\"data row2 col3\" >0.0566</td>\n",
       "      <td id=\"T_0b2aa_row2_col4\" class=\"data row2 col4\" >0.1425</td>\n",
       "      <td id=\"T_0b2aa_row2_col5\" class=\"data row2 col5\" >0.6006</td>\n",
       "      <td id=\"T_0b2aa_row2_col6\" class=\"data row2 col6\" >0.3343</td>\n",
       "    </tr>\n",
       "    <tr>\n",
       "      <th id=\"T_0b2aa_level0_row3\" class=\"row_heading level0 row3\" rowspan=\"3\">10</th>\n",
       "      <th id=\"T_0b2aa_level1_row3\" class=\"row_heading level1 row3\" >5</th>\n",
       "      <td id=\"T_0b2aa_row3_col0\" class=\"data row3 col0\" >0.0191</td>\n",
       "      <td id=\"T_0b2aa_row3_col1\" class=\"data row3 col1\" >0.0198</td>\n",
       "      <td id=\"T_0b2aa_row3_col2\" class=\"data row3 col2\" >0.4063</td>\n",
       "      <td id=\"T_0b2aa_row3_col3\" class=\"data row3 col3\" >0.0470</td>\n",
       "      <td id=\"T_0b2aa_row3_col4\" class=\"data row3 col4\" >0.1329</td>\n",
       "      <td id=\"T_0b2aa_row3_col5\" class=\"data row3 col5\" >0.1950</td>\n",
       "      <td id=\"T_0b2aa_row3_col6\" class=\"data row3 col6\" >0.0838</td>\n",
       "    </tr>\n",
       "    <tr>\n",
       "      <th id=\"T_0b2aa_level1_row4\" class=\"row_heading level1 row4\" >10</th>\n",
       "      <td id=\"T_0b2aa_row4_col0\" class=\"data row4 col0\" >0.0207</td>\n",
       "      <td id=\"T_0b2aa_row4_col1\" class=\"data row4 col1\" >0.0196</td>\n",
       "      <td id=\"T_0b2aa_row4_col2\" class=\"data row4 col2\" >0.3905</td>\n",
       "      <td id=\"T_0b2aa_row4_col3\" class=\"data row4 col3\" >0.0528</td>\n",
       "      <td id=\"T_0b2aa_row4_col4\" class=\"data row4 col4\" >0.1524</td>\n",
       "      <td id=\"T_0b2aa_row4_col5\" class=\"data row4 col5\" >0.4964</td>\n",
       "      <td id=\"T_0b2aa_row4_col6\" class=\"data row4 col6\" >0.2193</td>\n",
       "    </tr>\n",
       "    <tr>\n",
       "      <th id=\"T_0b2aa_level1_row5\" class=\"row_heading level1 row5\" >30</th>\n",
       "      <td id=\"T_0b2aa_row5_col0\" class=\"data row5 col0\" >0.0212</td>\n",
       "      <td id=\"T_0b2aa_row5_col1\" class=\"data row5 col1\" >0.0236</td>\n",
       "      <td id=\"T_0b2aa_row5_col2\" class=\"data row5 col2\" >0.3638</td>\n",
       "      <td id=\"T_0b2aa_row5_col3\" class=\"data row5 col3\" >0.0586</td>\n",
       "      <td id=\"T_0b2aa_row5_col4\" class=\"data row5 col4\" >0.1552</td>\n",
       "      <td id=\"T_0b2aa_row5_col5\" class=\"data row5 col5\" >0.6860</td>\n",
       "      <td id=\"T_0b2aa_row5_col6\" class=\"data row5 col6\" >0.4173</td>\n",
       "    </tr>\n",
       "    <tr>\n",
       "      <th id=\"T_0b2aa_level0_row6\" class=\"row_heading level0 row6\" rowspan=\"3\">30</th>\n",
       "      <th id=\"T_0b2aa_level1_row6\" class=\"row_heading level1 row6\" >5</th>\n",
       "      <td id=\"T_0b2aa_row6_col0\" class=\"data row6 col0\" >0.0164</td>\n",
       "      <td id=\"T_0b2aa_row6_col1\" class=\"data row6 col1\" >0.0166</td>\n",
       "      <td id=\"T_0b2aa_row6_col2\" class=\"data row6 col2\" >0.3472</td>\n",
       "      <td id=\"T_0b2aa_row6_col3\" class=\"data row6 col3\" >0.0472</td>\n",
       "      <td id=\"T_0b2aa_row6_col4\" class=\"data row6 col4\" >0.1190</td>\n",
       "      <td id=\"T_0b2aa_row6_col5\" class=\"data row6 col5\" >0.2662</td>\n",
       "      <td id=\"T_0b2aa_row6_col6\" class=\"data row6 col6\" >0.1518</td>\n",
       "    </tr>\n",
       "    <tr>\n",
       "      <th id=\"T_0b2aa_level1_row7\" class=\"row_heading level1 row7\" >10</th>\n",
       "      <td id=\"T_0b2aa_row7_col0\" class=\"data row7 col0\" >0.0181</td>\n",
       "      <td id=\"T_0b2aa_row7_col1\" class=\"data row7 col1\" >0.0184</td>\n",
       "      <td id=\"T_0b2aa_row7_col2\" class=\"data row7 col2\" >0.3503</td>\n",
       "      <td id=\"T_0b2aa_row7_col3\" class=\"data row7 col3\" >0.0515</td>\n",
       "      <td id=\"T_0b2aa_row7_col4\" class=\"data row7 col4\" >0.1190</td>\n",
       "      <td id=\"T_0b2aa_row7_col5\" class=\"data row7 col5\" >0.5086</td>\n",
       "      <td id=\"T_0b2aa_row7_col6\" class=\"data row7 col6\" >0.1521</td>\n",
       "    </tr>\n",
       "    <tr>\n",
       "      <th id=\"T_0b2aa_level1_row8\" class=\"row_heading level1 row8\" >30</th>\n",
       "      <td id=\"T_0b2aa_row8_col0\" class=\"data row8 col0\" >0.0193</td>\n",
       "      <td id=\"T_0b2aa_row8_col1\" class=\"data row8 col1\" >0.0195</td>\n",
       "      <td id=\"T_0b2aa_row8_col2\" class=\"data row8 col2\" >0.3309</td>\n",
       "      <td id=\"T_0b2aa_row8_col3\" class=\"data row8 col3\" >0.0583</td>\n",
       "      <td id=\"T_0b2aa_row8_col4\" class=\"data row8 col4\" >0.1492</td>\n",
       "      <td id=\"T_0b2aa_row8_col5\" class=\"data row8 col5\" >0.7372</td>\n",
       "      <td id=\"T_0b2aa_row8_col6\" class=\"data row8 col6\" >0.4409</td>\n",
       "    </tr>\n",
       "  </tbody>\n",
       "</table>\n"
      ],
      "text/plain": [
       "<pandas.io.formats.style.Styler at 0x24a2380bcc8>"
      ]
     },
     "metadata": {},
     "output_type": "display_data"
    }
   ],
   "source": [
    "table = summary_table(\"\\correlations\\correlation_absneu_{:d}d_v4.csv\",\"absneu\")"
   ]
  },
  {
   "cell_type": "markdown",
   "id": "65775560",
   "metadata": {},
   "source": [
    "**Finding**: From the regression, we noticed that the goodness of fit for the second model is better than the first one (p-value all below 1.5% while p-value of first model have an average of 11%). This aligns with intuition since large-cap stocks could have very large inflow and outflow.\n",
    "\n",
    "Regarding prediction power, the IC of the absneu factor is higher than the neu factor but the means are all below 2%. The two factors do not show better prediction power after neutralizing. The 5-layer portfolio sorts displayed a similar pattern with the pure factor where the tails outperform and middle part very few return. The annual return of the largest group ranges from 10-15%, very outstanding."
   ]
  },
  {
   "cell_type": "code",
   "execution_count": 12,
   "id": "5c9b42a7",
   "metadata": {
    "hide_input": true
   },
   "outputs": [
    {
     "data": {
      "image/png": "[encoded data removed]",
      "text/plain": [
       "<Figure size 1080x288 with 3 Axes>"
      ]
     },
     "metadata": {
      "needs_background": "light"
     },
     "output_type": "display_data"
    }
   ],
   "source": [
    "plot_return(\"neu\")"
   ]
  },
  {
   "cell_type": "code",
   "execution_count": 13,
   "id": "7a24a10d",
   "metadata": {
    "hide_input": true
   },
   "outputs": [
    {
     "data": {
      "image/png": "[encoded data removed]",
      "text/plain": [
       "<Figure size 1080x288 with 3 Axes>"
      ]
     },
     "metadata": {
      "needs_background": "light"
     },
     "output_type": "display_data"
    }
   ],
   "source": [
    "plot_return(\"absneu\")"
   ]
  },
  {
   "cell_type": "markdown",
   "id": "a62bafd6",
   "metadata": {},
   "source": [
    "## Top and Bottom Performance\n",
    "This results further suggests that information are only available at the top and bottom groups. Hence, we computed IC of the **top 10% and bottom 10%** of the pure factor and compare it with the IC of the middle group."
   ]
  },
  {
   "cell_type": "code",
   "execution_count": 7,
   "id": "0e379536",
   "metadata": {},
   "outputs": [
    {
     "data": {
      "text/html": [
       "<style type=\"text/css\">\n",
       "</style>\n",
       "<table id=\"T_24495\">\n",
       "  <caption>IC summary of the tails inflow factor</caption>\n",
       "  <thead>\n",
       "    <tr>\n",
       "      <th class=\"blank\" >&nbsp;</th>\n",
       "      <th class=\"blank level0\" >&nbsp;</th>\n",
       "      <th id=\"T_24495_level0_col0\" class=\"col_heading level0 col0\" >IC mean</th>\n",
       "      <th id=\"T_24495_level0_col1\" class=\"col_heading level0 col1\" >IC median</th>\n",
       "      <th id=\"T_24495_level0_col2\" class=\"col_heading level0 col2\" >IR</th>\n",
       "      <th id=\"T_24495_level0_col3\" class=\"col_heading level0 col3\" >std</th>\n",
       "      <th id=\"T_24495_level0_col4\" class=\"col_heading level0 col4\" >>0(%)</th>\n",
       "      <th id=\"T_24495_level0_col5\" class=\"col_heading level0 col5\" >acf (lag=1)</th>\n",
       "      <th id=\"T_24495_level0_col6\" class=\"col_heading level0 col6\" >acf (lag=2)</th>\n",
       "    </tr>\n",
       "    <tr>\n",
       "      <th class=\"index_name level0\" >n-day inflow</th>\n",
       "      <th class=\"index_name level1\" >m-day return</th>\n",
       "      <th class=\"blank col0\" >&nbsp;</th>\n",
       "      <th class=\"blank col1\" >&nbsp;</th>\n",
       "      <th class=\"blank col2\" >&nbsp;</th>\n",
       "      <th class=\"blank col3\" >&nbsp;</th>\n",
       "      <th class=\"blank col4\" >&nbsp;</th>\n",
       "      <th class=\"blank col5\" >&nbsp;</th>\n",
       "      <th class=\"blank col6\" >&nbsp;</th>\n",
       "    </tr>\n",
       "  </thead>\n",
       "  <tbody>\n",
       "    <tr>\n",
       "      <th id=\"T_24495_level0_row0\" class=\"row_heading level0 row0\" rowspan=\"3\">5</th>\n",
       "      <th id=\"T_24495_level1_row0\" class=\"row_heading level1 row0\" >5</th>\n",
       "      <td id=\"T_24495_row0_col0\" class=\"data row0 col0\" >0.0301</td>\n",
       "      <td id=\"T_24495_row0_col1\" class=\"data row0 col1\" >0.0340</td>\n",
       "      <td id=\"T_24495_row0_col2\" class=\"data row0 col2\" >0.2988</td>\n",
       "      <td id=\"T_24495_row0_col3\" class=\"data row0 col3\" >0.1007</td>\n",
       "      <td id=\"T_24495_row0_col4\" class=\"data row0 col4\" >0.1045</td>\n",
       "      <td id=\"T_24495_row0_col5\" class=\"data row0 col5\" >0.2171</td>\n",
       "      <td id=\"T_24495_row0_col6\" class=\"data row0 col6\" >-0.0125</td>\n",
       "    </tr>\n",
       "    <tr>\n",
       "      <th id=\"T_24495_level1_row1\" class=\"row_heading level1 row1\" >10</th>\n",
       "      <td id=\"T_24495_row1_col0\" class=\"data row1 col0\" >0.0403</td>\n",
       "      <td id=\"T_24495_row1_col1\" class=\"data row1 col1\" >0.0470</td>\n",
       "      <td id=\"T_24495_row1_col2\" class=\"data row1 col2\" >0.3572</td>\n",
       "      <td id=\"T_24495_row1_col3\" class=\"data row1 col3\" >0.1129</td>\n",
       "      <td id=\"T_24495_row1_col4\" class=\"data row1 col4\" >0.1286</td>\n",
       "      <td id=\"T_24495_row1_col5\" class=\"data row1 col5\" >0.3827</td>\n",
       "      <td id=\"T_24495_row1_col6\" class=\"data row1 col6\" >0.0650</td>\n",
       "    </tr>\n",
       "    <tr>\n",
       "      <th id=\"T_24495_level1_row2\" class=\"row_heading level1 row2\" >30</th>\n",
       "      <td id=\"T_24495_row2_col0\" class=\"data row2 col0\" >0.0349</td>\n",
       "      <td id=\"T_24495_row2_col1\" class=\"data row2 col1\" >0.0404</td>\n",
       "      <td id=\"T_24495_row2_col2\" class=\"data row2 col2\" >0.3084</td>\n",
       "      <td id=\"T_24495_row2_col3\" class=\"data row2 col3\" >0.1139</td>\n",
       "      <td id=\"T_24495_row2_col4\" class=\"data row2 col4\" >0.1129</td>\n",
       "      <td id=\"T_24495_row2_col5\" class=\"data row2 col5\" >0.5866</td>\n",
       "      <td id=\"T_24495_row2_col6\" class=\"data row2 col6\" >0.3502</td>\n",
       "    </tr>\n",
       "    <tr>\n",
       "      <th id=\"T_24495_level0_row3\" class=\"row_heading level0 row3\" rowspan=\"3\">10</th>\n",
       "      <th id=\"T_24495_level1_row3\" class=\"row_heading level1 row3\" >5</th>\n",
       "      <td id=\"T_24495_row3_col0\" class=\"data row3 col0\" >0.0326</td>\n",
       "      <td id=\"T_24495_row3_col1\" class=\"data row3 col1\" >0.0353</td>\n",
       "      <td id=\"T_24495_row3_col2\" class=\"data row3 col2\" >0.3074</td>\n",
       "      <td id=\"T_24495_row3_col3\" class=\"data row3 col3\" >0.1065</td>\n",
       "      <td id=\"T_24495_row3_col4\" class=\"data row3 col4\" >0.1199</td>\n",
       "      <td id=\"T_24495_row3_col5\" class=\"data row3 col5\" >0.2276</td>\n",
       "      <td id=\"T_24495_row3_col6\" class=\"data row3 col6\" >0.0090</td>\n",
       "    </tr>\n",
       "    <tr>\n",
       "      <th id=\"T_24495_level1_row4\" class=\"row_heading level1 row4\" >10</th>\n",
       "      <td id=\"T_24495_row4_col0\" class=\"data row4 col0\" >0.0335</td>\n",
       "      <td id=\"T_24495_row4_col1\" class=\"data row4 col1\" >0.0391</td>\n",
       "      <td id=\"T_24495_row4_col2\" class=\"data row4 col2\" >0.2848</td>\n",
       "      <td id=\"T_24495_row4_col3\" class=\"data row4 col3\" >0.1174</td>\n",
       "      <td id=\"T_24495_row4_col4\" class=\"data row4 col4\" >0.1245</td>\n",
       "      <td id=\"T_24495_row4_col5\" class=\"data row4 col5\" >0.4460</td>\n",
       "      <td id=\"T_24495_row4_col6\" class=\"data row4 col6\" >0.0812</td>\n",
       "    </tr>\n",
       "    <tr>\n",
       "      <th id=\"T_24495_level1_row5\" class=\"row_heading level1 row5\" >30</th>\n",
       "      <td id=\"T_24495_row5_col0\" class=\"data row5 col0\" >0.0358</td>\n",
       "      <td id=\"T_24495_row5_col1\" class=\"data row5 col1\" >0.0386</td>\n",
       "      <td id=\"T_24495_row5_col2\" class=\"data row5 col2\" >0.2750</td>\n",
       "      <td id=\"T_24495_row5_col3\" class=\"data row5 col3\" >0.1305</td>\n",
       "      <td id=\"T_24495_row5_col4\" class=\"data row5 col4\" >0.1431</td>\n",
       "      <td id=\"T_24495_row5_col5\" class=\"data row5 col5\" >0.7334</td>\n",
       "      <td id=\"T_24495_row5_col6\" class=\"data row5 col6\" >0.4395</td>\n",
       "    </tr>\n",
       "    <tr>\n",
       "      <th id=\"T_24495_level0_row6\" class=\"row_heading level0 row6\" rowspan=\"3\">30</th>\n",
       "      <th id=\"T_24495_level1_row6\" class=\"row_heading level1 row6\" >5</th>\n",
       "      <td id=\"T_24495_row6_col0\" class=\"data row6 col0\" >0.0273</td>\n",
       "      <td id=\"T_24495_row6_col1\" class=\"data row6 col1\" >0.0327</td>\n",
       "      <td id=\"T_24495_row6_col2\" class=\"data row6 col2\" >0.2483</td>\n",
       "      <td id=\"T_24495_row6_col3\" class=\"data row6 col3\" >0.1096</td>\n",
       "      <td id=\"T_24495_row6_col4\" class=\"data row6 col4\" >0.1048</td>\n",
       "      <td id=\"T_24495_row6_col5\" class=\"data row6 col5\" >0.2517</td>\n",
       "      <td id=\"T_24495_row6_col6\" class=\"data row6 col6\" >0.0596</td>\n",
       "    </tr>\n",
       "    <tr>\n",
       "      <th id=\"T_24495_level1_row7\" class=\"row_heading level1 row7\" >10</th>\n",
       "      <td id=\"T_24495_row7_col0\" class=\"data row7 col0\" >0.0286</td>\n",
       "      <td id=\"T_24495_row7_col1\" class=\"data row7 col1\" >0.0263</td>\n",
       "      <td id=\"T_24495_row7_col2\" class=\"data row7 col2\" >0.2450</td>\n",
       "      <td id=\"T_24495_row7_col3\" class=\"data row7 col3\" >0.1168</td>\n",
       "      <td id=\"T_24495_row7_col4\" class=\"data row7 col4\" >0.1029</td>\n",
       "      <td id=\"T_24495_row7_col5\" class=\"data row7 col5\" >0.5546</td>\n",
       "      <td id=\"T_24495_row7_col6\" class=\"data row7 col6\" >0.2048</td>\n",
       "    </tr>\n",
       "    <tr>\n",
       "      <th id=\"T_24495_level1_row8\" class=\"row_heading level1 row8\" >30</th>\n",
       "      <td id=\"T_24495_row8_col0\" class=\"data row8 col0\" >0.0267</td>\n",
       "      <td id=\"T_24495_row8_col1\" class=\"data row8 col1\" >0.0174</td>\n",
       "      <td id=\"T_24495_row8_col2\" class=\"data row8 col2\" >0.2018</td>\n",
       "      <td id=\"T_24495_row8_col3\" class=\"data row8 col3\" >0.1322</td>\n",
       "      <td id=\"T_24495_row8_col4\" class=\"data row8 col4\" >0.1303</td>\n",
       "      <td id=\"T_24495_row8_col5\" class=\"data row8 col5\" >0.8095</td>\n",
       "      <td id=\"T_24495_row8_col6\" class=\"data row8 col6\" >0.5962</td>\n",
       "    </tr>\n",
       "  </tbody>\n",
       "</table>\n"
      ],
      "text/plain": [
       "<pandas.io.formats.style.Styler at 0x25d7ab9e310>"
      ]
     },
     "metadata": {},
     "output_type": "display_data"
    }
   ],
   "source": [
    "table = summary_table(\"\\correlations\\correlation_abstails_{:d}d_v4.csv\",\"tails\")"
   ]
  },
  {
   "cell_type": "code",
   "execution_count": 5,
   "id": "3edb34d2",
   "metadata": {
    "scrolled": true
   },
   "outputs": [
    {
     "data": {
      "text/html": [
       "<style type=\"text/css\">\n",
       "</style>\n",
       "<table id=\"T_5336d\">\n",
       "  <caption>IC summary of the middle inflow factor</caption>\n",
       "  <thead>\n",
       "    <tr>\n",
       "      <th class=\"blank\" >&nbsp;</th>\n",
       "      <th class=\"blank level0\" >&nbsp;</th>\n",
       "      <th id=\"T_5336d_level0_col0\" class=\"col_heading level0 col0\" >IC mean</th>\n",
       "      <th id=\"T_5336d_level0_col1\" class=\"col_heading level0 col1\" >IC median</th>\n",
       "      <th id=\"T_5336d_level0_col2\" class=\"col_heading level0 col2\" >IR</th>\n",
       "      <th id=\"T_5336d_level0_col3\" class=\"col_heading level0 col3\" >std</th>\n",
       "      <th id=\"T_5336d_level0_col4\" class=\"col_heading level0 col4\" >>0(%)</th>\n",
       "      <th id=\"T_5336d_level0_col5\" class=\"col_heading level0 col5\" >acf (lag=1)</th>\n",
       "      <th id=\"T_5336d_level0_col6\" class=\"col_heading level0 col6\" >acf (lag=2)</th>\n",
       "    </tr>\n",
       "    <tr>\n",
       "      <th class=\"index_name level0\" >n-day inflow</th>\n",
       "      <th class=\"index_name level1\" >m-day return</th>\n",
       "      <th class=\"blank col0\" >&nbsp;</th>\n",
       "      <th class=\"blank col1\" >&nbsp;</th>\n",
       "      <th class=\"blank col2\" >&nbsp;</th>\n",
       "      <th class=\"blank col3\" >&nbsp;</th>\n",
       "      <th class=\"blank col4\" >&nbsp;</th>\n",
       "      <th class=\"blank col5\" >&nbsp;</th>\n",
       "      <th class=\"blank col6\" >&nbsp;</th>\n",
       "    </tr>\n",
       "  </thead>\n",
       "  <tbody>\n",
       "    <tr>\n",
       "      <th id=\"T_5336d_level0_row0\" class=\"row_heading level0 row0\" rowspan=\"3\">5</th>\n",
       "      <th id=\"T_5336d_level1_row0\" class=\"row_heading level1 row0\" >5</th>\n",
       "      <td id=\"T_5336d_row0_col0\" class=\"data row0 col0\" >0.0039</td>\n",
       "      <td id=\"T_5336d_row0_col1\" class=\"data row0 col1\" >0.0046</td>\n",
       "      <td id=\"T_5336d_row0_col2\" class=\"data row0 col2\" >0.0765</td>\n",
       "      <td id=\"T_5336d_row0_col3\" class=\"data row0 col3\" >0.0520</td>\n",
       "      <td id=\"T_5336d_row0_col4\" class=\"data row0 col4\" >0.0907</td>\n",
       "      <td id=\"T_5336d_row0_col5\" class=\"data row0 col5\" >0.2093</td>\n",
       "      <td id=\"T_5336d_row0_col6\" class=\"data row0 col6\" >-0.0218</td>\n",
       "    </tr>\n",
       "    <tr>\n",
       "      <th id=\"T_5336d_level1_row1\" class=\"row_heading level1 row1\" >10</th>\n",
       "      <td id=\"T_5336d_row1_col0\" class=\"data row1 col0\" >0.0045</td>\n",
       "      <td id=\"T_5336d_row1_col1\" class=\"data row1 col1\" >0.0074</td>\n",
       "      <td id=\"T_5336d_row1_col2\" class=\"data row1 col2\" >0.0745</td>\n",
       "      <td id=\"T_5336d_row1_col3\" class=\"data row1 col3\" >0.0610</td>\n",
       "      <td id=\"T_5336d_row1_col4\" class=\"data row1 col4\" >0.1064</td>\n",
       "      <td id=\"T_5336d_row1_col5\" class=\"data row1 col5\" >0.4211</td>\n",
       "      <td id=\"T_5336d_row1_col6\" class=\"data row1 col6\" >0.0618</td>\n",
       "    </tr>\n",
       "    <tr>\n",
       "      <th id=\"T_5336d_level1_row2\" class=\"row_heading level1 row2\" >30</th>\n",
       "      <td id=\"T_5336d_row2_col0\" class=\"data row2 col0\" >0.0013</td>\n",
       "      <td id=\"T_5336d_row2_col1\" class=\"data row2 col1\" >0.0030</td>\n",
       "      <td id=\"T_5336d_row2_col2\" class=\"data row2 col2\" >0.0184</td>\n",
       "      <td id=\"T_5336d_row2_col3\" class=\"data row2 col3\" >0.0682</td>\n",
       "      <td id=\"T_5336d_row2_col4\" class=\"data row2 col4\" >0.1055</td>\n",
       "      <td id=\"T_5336d_row2_col5\" class=\"data row2 col5\" >0.5795</td>\n",
       "      <td id=\"T_5336d_row2_col6\" class=\"data row2 col6\" >0.2936</td>\n",
       "    </tr>\n",
       "    <tr>\n",
       "      <th id=\"T_5336d_level0_row3\" class=\"row_heading level0 row3\" rowspan=\"3\">10</th>\n",
       "      <th id=\"T_5336d_level1_row3\" class=\"row_heading level1 row3\" >5</th>\n",
       "      <td id=\"T_5336d_row3_col0\" class=\"data row3 col0\" >0.0014</td>\n",
       "      <td id=\"T_5336d_row3_col1\" class=\"data row3 col1\" >0.0007</td>\n",
       "      <td id=\"T_5336d_row3_col2\" class=\"data row3 col2\" >0.0249</td>\n",
       "      <td id=\"T_5336d_row3_col3\" class=\"data row3 col3\" >0.0561</td>\n",
       "      <td id=\"T_5336d_row3_col4\" class=\"data row3 col4\" >0.0985</td>\n",
       "      <td id=\"T_5336d_row3_col5\" class=\"data row3 col5\" >0.1874</td>\n",
       "      <td id=\"T_5336d_row3_col6\" class=\"data row3 col6\" >0.0530</td>\n",
       "    </tr>\n",
       "    <tr>\n",
       "      <th id=\"T_5336d_level1_row4\" class=\"row_heading level1 row4\" >10</th>\n",
       "      <td id=\"T_5336d_row4_col0\" class=\"data row4 col0\" >0.0013</td>\n",
       "      <td id=\"T_5336d_row4_col1\" class=\"data row4 col1\" >0.0057</td>\n",
       "      <td id=\"T_5336d_row4_col2\" class=\"data row4 col2\" >0.0201</td>\n",
       "      <td id=\"T_5336d_row4_col3\" class=\"data row4 col3\" >0.0642</td>\n",
       "      <td id=\"T_5336d_row4_col4\" class=\"data row4 col4\" >0.1013</td>\n",
       "      <td id=\"T_5336d_row4_col5\" class=\"data row4 col5\" >0.4982</td>\n",
       "      <td id=\"T_5336d_row4_col6\" class=\"data row4 col6\" >0.1478</td>\n",
       "    </tr>\n",
       "    <tr>\n",
       "      <th id=\"T_5336d_level1_row5\" class=\"row_heading level1 row5\" >30</th>\n",
       "      <td id=\"T_5336d_row5_col0\" class=\"data row5 col0\" >-0.0034</td>\n",
       "      <td id=\"T_5336d_row5_col1\" class=\"data row5 col1\" >-0.0038</td>\n",
       "      <td id=\"T_5336d_row5_col2\" class=\"data row5 col2\" >-0.0482</td>\n",
       "      <td id=\"T_5336d_row5_col3\" class=\"data row5 col3\" >0.0714</td>\n",
       "      <td id=\"T_5336d_row5_col4\" class=\"data row5 col4\" >0.1004</td>\n",
       "      <td id=\"T_5336d_row5_col5\" class=\"data row5 col5\" >0.6793</td>\n",
       "      <td id=\"T_5336d_row5_col6\" class=\"data row5 col6\" >0.3939</td>\n",
       "    </tr>\n",
       "    <tr>\n",
       "      <th id=\"T_5336d_level0_row6\" class=\"row_heading level0 row6\" rowspan=\"3\">30</th>\n",
       "      <th id=\"T_5336d_level1_row6\" class=\"row_heading level1 row6\" >5</th>\n",
       "      <td id=\"T_5336d_row6_col0\" class=\"data row6 col0\" >-0.0068</td>\n",
       "      <td id=\"T_5336d_row6_col1\" class=\"data row6 col1\" >-0.0066</td>\n",
       "      <td id=\"T_5336d_row6_col2\" class=\"data row6 col2\" >-0.1144</td>\n",
       "      <td id=\"T_5336d_row6_col3\" class=\"data row6 col3\" >0.0591</td>\n",
       "      <td id=\"T_5336d_row6_col4\" class=\"data row6 col4\" >0.0897</td>\n",
       "      <td id=\"T_5336d_row6_col5\" class=\"data row6 col5\" >0.2930</td>\n",
       "      <td id=\"T_5336d_row6_col6\" class=\"data row6 col6\" >0.0892</td>\n",
       "    </tr>\n",
       "    <tr>\n",
       "      <th id=\"T_5336d_level1_row7\" class=\"row_heading level1 row7\" >10</th>\n",
       "      <td id=\"T_5336d_row7_col0\" class=\"data row7 col0\" >-0.0090</td>\n",
       "      <td id=\"T_5336d_row7_col1\" class=\"data row7 col1\" >-0.0067</td>\n",
       "      <td id=\"T_5336d_row7_col2\" class=\"data row7 col2\" >-0.1332</td>\n",
       "      <td id=\"T_5336d_row7_col3\" class=\"data row7 col3\" >0.0674</td>\n",
       "      <td id=\"T_5336d_row7_col4\" class=\"data row7 col4\" >0.0784</td>\n",
       "      <td id=\"T_5336d_row7_col5\" class=\"data row7 col5\" >0.5694</td>\n",
       "      <td id=\"T_5336d_row7_col6\" class=\"data row7 col6\" >0.1734</td>\n",
       "    </tr>\n",
       "    <tr>\n",
       "      <th id=\"T_5336d_level1_row8\" class=\"row_heading level1 row8\" >30</th>\n",
       "      <td id=\"T_5336d_row8_col0\" class=\"data row8 col0\" >-0.0113</td>\n",
       "      <td id=\"T_5336d_row8_col1\" class=\"data row8 col1\" >-0.0163</td>\n",
       "      <td id=\"T_5336d_row8_col2\" class=\"data row8 col2\" >-0.1552</td>\n",
       "      <td id=\"T_5336d_row8_col3\" class=\"data row8 col3\" >0.0727</td>\n",
       "      <td id=\"T_5336d_row8_col4\" class=\"data row8 col4\" >0.0888</td>\n",
       "      <td id=\"T_5336d_row8_col5\" class=\"data row8 col5\" >0.7943</td>\n",
       "      <td id=\"T_5336d_row8_col6\" class=\"data row8 col6\" >0.5337</td>\n",
       "    </tr>\n",
       "  </tbody>\n",
       "</table>\n"
      ],
      "text/plain": [
       "<pandas.io.formats.style.Styler at 0x25d89db5c10>"
      ]
     },
     "metadata": {},
     "output_type": "display_data"
    }
   ],
   "source": [
    "table = summary_table(\"\\correlations\\correlation_absmiddle_{:d}d_v4.csv\",\"middle\")"
   ]
  },
  {
   "cell_type": "markdown",
   "id": "9459613c",
   "metadata": {},
   "source": [
    "**Finding**: As expected, the IC of the tails are much higher than the pure factor and the 5-day inflow and 10-day return group even have an IC of over 4%. The middle group have a close-to-zero IC.\n",
    "\n",
    "Moreover, the IC decreases as we increase return calculation period from 10 to 30 days. But increasing from 5 to 10 days do bring IC improvements. Hence, 10-day return seems like an optimal horizon. Prediction power of 30-day is significantly weaker than 5- and 10-day, so we would focus on the shorter term ones later on."
   ]
  },
  {
   "cell_type": "markdown",
   "id": "bb976851",
   "metadata": {},
   "source": [
    "# Strategy Construction"
   ]
  },
  {
   "cell_type": "markdown",
   "id": "d0bb2df2",
   "metadata": {},
   "source": [
    "## Long-Short Portfolio and Backtests\n",
    "We backtested on two horizon (5- and 10-day inflow) and 3 factors. Backtesting details are listed as follow:\n",
    "- rebalance horizon: 10 days\n",
    "- Portfolio construction: equally-weighted (takes top 2.5% to form long and short portfolio, each portfolio contains around 10-15 stocks)\n",
    "- excluded: listed in the connect in the previous 60 days or to be delisted in the next 60 days\n",
    "- liquidity requirements: average daily inflow < 1 million, close price smaller than 1 hkd and market cap larger than 5 billion\n",
    "- transaction cost: 0.15% for long side, 0.25% for short side"
   ]
  },
  {
   "cell_type": "code",
   "execution_count": 16,
   "id": "c72c6b9f",
   "metadata": {
    "scrolled": true
   },
   "outputs": [
    {
     "data": {
      "image/png": "[encoded data removed]",
      "text/plain": [
       "<Figure size 1440x360 with 2 Axes>"
      ]
     },
     "metadata": {
      "needs_background": "light"
     },
     "output_type": "display_data"
    }
   ],
   "source": [
    "y, ls = plot_backtest(r'\\long_short\\return_v2.csv',[5,10])"
   ]
  },
  {
   "cell_type": "code",
   "execution_count": 17,
   "id": "dbd74c1d",
   "metadata": {
    "hide_input": true
   },
   "outputs": [
    {
     "data": {
      "text/html": [
       "<style type=\"text/css\">\n",
       "#T_87922_row0_col0, #T_87922_row1_col0, #T_87922_row2_col0, #T_87922_row3_col0, #T_87922_row4_col0 {\n",
       "  background-color: #08306b;\n",
       "  color: #f1f1f1;\n",
       "}\n",
       "#T_87922_row0_col1, #T_87922_row1_col2, #T_87922_row2_col1, #T_87922_row3_col1, #T_87922_row4_col1 {\n",
       "  background-color: #f7fbff;\n",
       "  color: #000000;\n",
       "}\n",
       "#T_87922_row0_col2 {\n",
       "  background-color: #99c7e0;\n",
       "  color: #000000;\n",
       "}\n",
       "#T_87922_row1_col1 {\n",
       "  background-color: #8abfdd;\n",
       "  color: #000000;\n",
       "}\n",
       "#T_87922_row2_col2 {\n",
       "  background-color: #6fb0d7;\n",
       "  color: #f1f1f1;\n",
       "}\n",
       "#T_87922_row3_col2 {\n",
       "  background-color: #083776;\n",
       "  color: #f1f1f1;\n",
       "}\n",
       "#T_87922_row4_col2 {\n",
       "  background-color: #6caed6;\n",
       "  color: #f1f1f1;\n",
       "}\n",
       "</style>\n",
       "<table id=\"T_87922_\">\n",
       "  <caption>Summary Table (5-day inflow)</caption>\n",
       "  <thead>\n",
       "    <tr>\n",
       "      <th class=\"blank level0\" >&nbsp;</th>\n",
       "      <th class=\"col_heading level0 col0\" >absneu</th>\n",
       "      <th class=\"col_heading level0 col1\" >neu</th>\n",
       "      <th class=\"col_heading level0 col2\" >pure</th>\n",
       "    </tr>\n",
       "  </thead>\n",
       "  <tbody>\n",
       "    <tr>\n",
       "      <th id=\"T_87922_level0_row0\" class=\"row_heading level0 row0\" >annualized return</th>\n",
       "      <td id=\"T_87922_row0_col0\" class=\"data row0 col0\" >26.32%</td>\n",
       "      <td id=\"T_87922_row0_col1\" class=\"data row0 col1\" >15.85%</td>\n",
       "      <td id=\"T_87922_row0_col2\" class=\"data row0 col2\" >19.91%</td>\n",
       "    </tr>\n",
       "    <tr>\n",
       "      <th id=\"T_87922_level0_row1\" class=\"row_heading level0 row1\" >annualized vol</th>\n",
       "      <td id=\"T_87922_row1_col0\" class=\"data row1 col0\" >20.46%</td>\n",
       "      <td id=\"T_87922_row1_col1\" class=\"data row1 col1\" >19.70%</td>\n",
       "      <td id=\"T_87922_row1_col2\" class=\"data row1 col2\" >19.15%</td>\n",
       "    </tr>\n",
       "    <tr>\n",
       "      <th id=\"T_87922_level0_row2\" class=\"row_heading level0 row2\" >sharpe ratio</th>\n",
       "      <td id=\"T_87922_row2_col0\" class=\"data row2 col0\" >128.66%</td>\n",
       "      <td id=\"T_87922_row2_col1\" class=\"data row2 col1\" >80.44%</td>\n",
       "      <td id=\"T_87922_row2_col2\" class=\"data row2 col2\" >103.98%</td>\n",
       "    </tr>\n",
       "    <tr>\n",
       "      <th id=\"T_87922_level0_row3\" class=\"row_heading level0 row3\" >maximum drawdown</th>\n",
       "      <td id=\"T_87922_row3_col0\" class=\"data row3 col0\" >-21.05%</td>\n",
       "      <td id=\"T_87922_row3_col1\" class=\"data row3 col1\" >-25.73%</td>\n",
       "      <td id=\"T_87922_row3_col2\" class=\"data row3 col2\" >-21.18%</td>\n",
       "    </tr>\n",
       "    <tr>\n",
       "      <th id=\"T_87922_level0_row4\" class=\"row_heading level0 row4\" >t values</th>\n",
       "      <td id=\"T_87922_row4_col0\" class=\"data row4 col0\" >288.75%</td>\n",
       "      <td id=\"T_87922_row4_col1\" class=\"data row4 col1\" >194.92%</td>\n",
       "      <td id=\"T_87922_row4_col2\" class=\"data row4 col2\" >241.72%</td>\n",
       "    </tr>\n",
       "  </tbody>\n",
       "</table>\n"
      ],
      "text/plain": [
       "<pandas.io.formats.style.Styler at 0x24a24ee9248>"
      ]
     },
     "metadata": {},
     "output_type": "display_data"
    },
    {
     "data": {
      "text/html": [
       "<style type=\"text/css\">\n",
       "#T_c76c9_row0_col0, #T_c76c9_row1_col2, #T_c76c9_row2_col0, #T_c76c9_row3_col0, #T_c76c9_row4_col0 {\n",
       "  background-color: #08306b;\n",
       "  color: #f1f1f1;\n",
       "}\n",
       "#T_c76c9_row0_col1, #T_c76c9_row1_col0, #T_c76c9_row2_col1, #T_c76c9_row3_col1, #T_c76c9_row4_col1 {\n",
       "  background-color: #f7fbff;\n",
       "  color: #000000;\n",
       "}\n",
       "#T_c76c9_row0_col2 {\n",
       "  background-color: #75b4d8;\n",
       "  color: #000000;\n",
       "}\n",
       "#T_c76c9_row1_col1 {\n",
       "  background-color: #2171b5;\n",
       "  color: #f1f1f1;\n",
       "}\n",
       "#T_c76c9_row2_col2 {\n",
       "  background-color: #a1cbe2;\n",
       "  color: #000000;\n",
       "}\n",
       "#T_c76c9_row3_col2 {\n",
       "  background-color: #cadef0;\n",
       "  color: #000000;\n",
       "}\n",
       "#T_c76c9_row4_col2 {\n",
       "  background-color: #9fcae1;\n",
       "  color: #000000;\n",
       "}\n",
       "</style>\n",
       "<table id=\"T_c76c9_\">\n",
       "  <caption>Summary Table (10-day inflow)</caption>\n",
       "  <thead>\n",
       "    <tr>\n",
       "      <th class=\"blank level0\" >&nbsp;</th>\n",
       "      <th class=\"col_heading level0 col0\" >absneu</th>\n",
       "      <th class=\"col_heading level0 col1\" >neu</th>\n",
       "      <th class=\"col_heading level0 col2\" >pure</th>\n",
       "    </tr>\n",
       "  </thead>\n",
       "  <tbody>\n",
       "    <tr>\n",
       "      <th id=\"T_c76c9_level0_row0\" class=\"row_heading level0 row0\" >annualized return</th>\n",
       "      <td id=\"T_c76c9_row0_col0\" class=\"data row0 col0\" >28.75%</td>\n",
       "      <td id=\"T_c76c9_row0_col1\" class=\"data row0 col1\" >19.35%</td>\n",
       "      <td id=\"T_c76c9_row0_col2\" class=\"data row0 col2\" >23.82%</td>\n",
       "    </tr>\n",
       "    <tr>\n",
       "      <th id=\"T_c76c9_level0_row1\" class=\"row_heading level0 row1\" >annualized vol</th>\n",
       "      <td id=\"T_c76c9_row1_col0\" class=\"data row1 col0\" >16.69%</td>\n",
       "      <td id=\"T_c76c9_row1_col1\" class=\"data row1 col1\" >17.64%</td>\n",
       "      <td id=\"T_c76c9_row1_col2\" class=\"data row1 col2\" >17.96%</td>\n",
       "    </tr>\n",
       "    <tr>\n",
       "      <th id=\"T_c76c9_level0_row2\" class=\"row_heading level0 row2\" >sharpe ratio</th>\n",
       "      <td id=\"T_c76c9_row2_col0\" class=\"data row2 col0\" >172.29%</td>\n",
       "      <td id=\"T_c76c9_row2_col1\" class=\"data row2 col1\" >109.70%</td>\n",
       "      <td id=\"T_c76c9_row2_col2\" class=\"data row2 col2\" >132.64%</td>\n",
       "    </tr>\n",
       "    <tr>\n",
       "      <th id=\"T_c76c9_level0_row3\" class=\"row_heading level0 row3\" >maximum drawdown</th>\n",
       "      <td id=\"T_c76c9_row3_col0\" class=\"data row3 col0\" >-16.17%</td>\n",
       "      <td id=\"T_c76c9_row3_col1\" class=\"data row3 col1\" >-22.50%</td>\n",
       "      <td id=\"T_c76c9_row3_col2\" class=\"data row3 col2\" >-21.06%</td>\n",
       "    </tr>\n",
       "    <tr>\n",
       "      <th id=\"T_c76c9_level0_row4\" class=\"row_heading level0 row4\" >t values</th>\n",
       "      <td id=\"T_c76c9_row4_col0\" class=\"data row4 col0\" >363.49%</td>\n",
       "      <td id=\"T_c76c9_row4_col1\" class=\"data row4 col1\" >247.21%</td>\n",
       "      <td id=\"T_c76c9_row4_col2\" class=\"data row4 col2\" >290.43%</td>\n",
       "    </tr>\n",
       "  </tbody>\n",
       "</table>\n"
      ],
      "text/plain": [
       "<pandas.io.formats.style.Styler at 0x24a24f3ac88>"
      ]
     },
     "metadata": {},
     "output_type": "display_data"
    }
   ],
   "source": [
    "summary_table2(ls)"
   ]
  },
  {
   "cell_type": "markdown",
   "id": "e031eab5",
   "metadata": {},
   "source": [
    "**Finding**: In this scenario, Portfolio based on the 5-day inflow factor has smaller Sharpe ratio and higher volatility as compared to 10-day. In the 10-day group, all 3 factors generated Sharpe ratio of above 1 and the absneu factor even has a Sharpe ratio of 1.7. This suggests that the inflow factor do contain valuable information and the 10-day inflow factor is more stable and less costly compared to the 5-day inflow factor."
   ]
  },
  {
   "cell_type": "markdown",
   "id": "340219fc",
   "metadata": {},
   "source": [
    "## Strategy Adjustment\n",
    "Our backtest above uses the top 2.5% portfolio. Next we investigated the optimal percentage to construct the long-short portfolio. There are two considerations:\n",
    "1. The long short portfolio should not be too large since information comes from the tail.\n",
    "2. The long short portfolio should not be too small since the tails would be exposed to market cap influence and would need more diversification.\n",
    "\n",
    "We then conduct backtest on 5% and 10% portfolio. "
   ]
  },
  {
   "cell_type": "code",
   "execution_count": 18,
   "id": "03f551e0",
   "metadata": {
    "hide_input": false
   },
   "outputs": [
    {
     "data": {
      "image/png": "[encoded data removed]",
      "text/plain": [
       "<Figure size 432x288 with 1 Axes>"
      ]
     },
     "metadata": {
      "needs_background": "light"
     },
     "output_type": "display_data"
    }
   ],
   "source": [
    "plot_percentage()"
   ]
  },
  {
   "cell_type": "markdown",
   "id": "a1fcf8cc",
   "metadata": {},
   "source": [
    "**Finding**: The above graph display the backtest result of the 10-day pure inflow factor. As shown, 2.5% and 5% delivered much better performance. 5% is more stable as compared to 2.5%. The other two factors also display a similar pattern. Hence, top 5% long and bottom 5% short should be an optimal setting.\n",
    "\n",
    "Therefore, we would use top 5% as long side and bottom 5% as short side as our final trading strategy. The summary statistics of 5% portfolios are shown below. Improvement of performance is quite obvious and the 10-day absneu factor delivered a high Sharpe ratio of 1.9."
   ]
  },
  {
   "cell_type": "code",
   "execution_count": 19,
   "id": "2b2e0f4f",
   "metadata": {},
   "outputs": [
    {
     "data": {
      "image/png": "[encoded data removed]",
      "text/plain": [
       "<Figure size 1440x360 with 2 Axes>"
      ]
     },
     "metadata": {
      "needs_background": "light"
     },
     "output_type": "display_data"
    }
   ],
   "source": [
    "y, ls = plot_backtest(r'\\long_short\\return_v2_50.csv',[5, 10])"
   ]
  },
  {
   "cell_type": "code",
   "execution_count": 20,
   "id": "6dae7512",
   "metadata": {
    "scrolled": true
   },
   "outputs": [
    {
     "data": {
      "text/html": [
       "<style type=\"text/css\">\n",
       "#T_122ac_row0_col0, #T_122ac_row1_col0, #T_122ac_row2_col0, #T_122ac_row3_col2, #T_122ac_row4_col0 {\n",
       "  background-color: #f7fbff;\n",
       "  color: #000000;\n",
       "}\n",
       "#T_122ac_row0_col1 {\n",
       "  background-color: #08509b;\n",
       "  color: #f1f1f1;\n",
       "}\n",
       "#T_122ac_row0_col2, #T_122ac_row1_col1, #T_122ac_row2_col2, #T_122ac_row3_col0, #T_122ac_row4_col2 {\n",
       "  background-color: #08306b;\n",
       "  color: #f1f1f1;\n",
       "}\n",
       "#T_122ac_row1_col2 {\n",
       "  background-color: #64a9d3;\n",
       "  color: #f1f1f1;\n",
       "}\n",
       "#T_122ac_row2_col1 {\n",
       "  background-color: #66abd4;\n",
       "  color: #f1f1f1;\n",
       "}\n",
       "#T_122ac_row3_col1 {\n",
       "  background-color: #bdd7ec;\n",
       "  color: #000000;\n",
       "}\n",
       "#T_122ac_row4_col1 {\n",
       "  background-color: #6aaed6;\n",
       "  color: #f1f1f1;\n",
       "}\n",
       "</style>\n",
       "<table id=\"T_122ac_\">\n",
       "  <caption>Summary Table (5-day inflow)</caption>\n",
       "  <thead>\n",
       "    <tr>\n",
       "      <th class=\"blank level0\" >&nbsp;</th>\n",
       "      <th class=\"col_heading level0 col0\" >absneu</th>\n",
       "      <th class=\"col_heading level0 col1\" >neu</th>\n",
       "      <th class=\"col_heading level0 col2\" >pure</th>\n",
       "    </tr>\n",
       "  </thead>\n",
       "  <tbody>\n",
       "    <tr>\n",
       "      <th id=\"T_122ac_level0_row0\" class=\"row_heading level0 row0\" >annualized return</th>\n",
       "      <td id=\"T_122ac_row0_col0\" class=\"data row0 col0\" >16.01%</td>\n",
       "      <td id=\"T_122ac_row0_col1\" class=\"data row0 col1\" >21.61%</td>\n",
       "      <td id=\"T_122ac_row0_col2\" class=\"data row0 col2\" >22.39%</td>\n",
       "    </tr>\n",
       "    <tr>\n",
       "      <th id=\"T_122ac_level0_row1\" class=\"row_heading level0 row1\" >annualized vol</th>\n",
       "      <td id=\"T_122ac_row1_col0\" class=\"data row1 col0\" >12.89%</td>\n",
       "      <td id=\"T_122ac_row1_col1\" class=\"data row1 col1\" >15.24%</td>\n",
       "      <td id=\"T_122ac_row1_col2\" class=\"data row1 col2\" >14.12%</td>\n",
       "    </tr>\n",
       "    <tr>\n",
       "      <th id=\"T_122ac_level0_row2\" class=\"row_heading level0 row2\" >sharpe ratio</th>\n",
       "      <td id=\"T_122ac_row2_col0\" class=\"data row2 col0\" >124.23%</td>\n",
       "      <td id=\"T_122ac_row2_col1\" class=\"data row2 col1\" >141.81%</td>\n",
       "      <td id=\"T_122ac_row2_col2\" class=\"data row2 col2\" >158.58%</td>\n",
       "    </tr>\n",
       "    <tr>\n",
       "      <th id=\"T_122ac_level0_row3\" class=\"row_heading level0 row3\" >maximum drawdown</th>\n",
       "      <td id=\"T_122ac_row3_col0\" class=\"data row3 col0\" >-8.98%</td>\n",
       "      <td id=\"T_122ac_row3_col1\" class=\"data row3 col1\" >-15.47%</td>\n",
       "      <td id=\"T_122ac_row3_col2\" class=\"data row3 col2\" >-17.99%</td>\n",
       "    </tr>\n",
       "    <tr>\n",
       "      <th id=\"T_122ac_level0_row4\" class=\"row_heading level0 row4\" >t values</th>\n",
       "      <td id=\"T_122ac_row4_col0\" class=\"data row4 col0\" >270.98%</td>\n",
       "      <td id=\"T_122ac_row4_col1\" class=\"data row4 col1\" >303.08%</td>\n",
       "      <td id=\"T_122ac_row4_col2\" class=\"data row4 col2\" >334.88%</td>\n",
       "    </tr>\n",
       "  </tbody>\n",
       "</table>\n"
      ],
      "text/plain": [
       "<pandas.io.formats.style.Styler at 0x24a25102248>"
      ]
     },
     "metadata": {},
     "output_type": "display_data"
    },
    {
     "data": {
      "text/html": [
       "<style type=\"text/css\">\n",
       "#T_04852_row0_col0 {\n",
       "  background-color: #add0e6;\n",
       "  color: #000000;\n",
       "}\n",
       "#T_04852_row0_col1, #T_04852_row1_col1, #T_04852_row2_col0, #T_04852_row3_col0, #T_04852_row4_col0 {\n",
       "  background-color: #08306b;\n",
       "  color: #f1f1f1;\n",
       "}\n",
       "#T_04852_row0_col2, #T_04852_row1_col0, #T_04852_row2_col2, #T_04852_row3_col2, #T_04852_row4_col2 {\n",
       "  background-color: #f7fbff;\n",
       "  color: #000000;\n",
       "}\n",
       "#T_04852_row1_col2 {\n",
       "  background-color: #08316d;\n",
       "  color: #f1f1f1;\n",
       "}\n",
       "#T_04852_row2_col1 {\n",
       "  background-color: #2f7fbc;\n",
       "  color: #f1f1f1;\n",
       "}\n",
       "#T_04852_row3_col1 {\n",
       "  background-color: #2373b6;\n",
       "  color: #f1f1f1;\n",
       "}\n",
       "#T_04852_row4_col1 {\n",
       "  background-color: #3686c0;\n",
       "  color: #f1f1f1;\n",
       "}\n",
       "</style>\n",
       "<table id=\"T_04852_\">\n",
       "  <caption>Summary Table (10-day inflow)</caption>\n",
       "  <thead>\n",
       "    <tr>\n",
       "      <th class=\"blank level0\" >&nbsp;</th>\n",
       "      <th class=\"col_heading level0 col0\" >absneu</th>\n",
       "      <th class=\"col_heading level0 col1\" >neu</th>\n",
       "      <th class=\"col_heading level0 col2\" >pure</th>\n",
       "    </tr>\n",
       "  </thead>\n",
       "  <tbody>\n",
       "    <tr>\n",
       "      <th id=\"T_04852_level0_row0\" class=\"row_heading level0 row0\" >annualized return</th>\n",
       "      <td id=\"T_04852_row0_col0\" class=\"data row0 col0\" >21.44%</td>\n",
       "      <td id=\"T_04852_row0_col1\" class=\"data row0 col1\" >23.84%</td>\n",
       "      <td id=\"T_04852_row0_col2\" class=\"data row0 col2\" >20.25%</td>\n",
       "    </tr>\n",
       "    <tr>\n",
       "      <th id=\"T_04852_level0_row1\" class=\"row_heading level0 row1\" >annualized vol</th>\n",
       "      <td id=\"T_04852_row1_col0\" class=\"data row1 col0\" >12.07%</td>\n",
       "      <td id=\"T_04852_row1_col1\" class=\"data row1 col1\" >14.28%</td>\n",
       "      <td id=\"T_04852_row1_col2\" class=\"data row1 col2\" >14.27%</td>\n",
       "    </tr>\n",
       "    <tr>\n",
       "      <th id=\"T_04852_level0_row2\" class=\"row_heading level0 row2\" >sharpe ratio</th>\n",
       "      <td id=\"T_04852_row2_col0\" class=\"data row2 col0\" >177.66%</td>\n",
       "      <td id=\"T_04852_row2_col1\" class=\"data row2 col1\" >166.90%</td>\n",
       "      <td id=\"T_04852_row2_col2\" class=\"data row2 col2\" >141.90%</td>\n",
       "    </tr>\n",
       "    <tr>\n",
       "      <th id=\"T_04852_level0_row3\" class=\"row_heading level0 row3\" >maximum drawdown</th>\n",
       "      <td id=\"T_04852_row3_col0\" class=\"data row3 col0\" >-9.31%</td>\n",
       "      <td id=\"T_04852_row3_col1\" class=\"data row3 col1\" >-10.64%</td>\n",
       "      <td id=\"T_04852_row3_col2\" class=\"data row3 col2\" >-14.44%</td>\n",
       "    </tr>\n",
       "    <tr>\n",
       "      <th id=\"T_04852_level0_row4\" class=\"row_heading level0 row4\" >t values</th>\n",
       "      <td id=\"T_04852_row4_col0\" class=\"data row4 col0\" >371.29%</td>\n",
       "      <td id=\"T_04852_row4_col1\" class=\"data row4 col1\" >348.86%</td>\n",
       "      <td id=\"T_04852_row4_col2\" class=\"data row4 col2\" >303.09%</td>\n",
       "    </tr>\n",
       "  </tbody>\n",
       "</table>\n"
      ],
      "text/plain": [
       "<pandas.io.formats.style.Styler at 0x24a24edee88>"
      ]
     },
     "metadata": {},
     "output_type": "display_data"
    }
   ],
   "source": [
    "summary_table2(ls)"
   ]
  },
  {
   "cell_type": "markdown",
   "id": "2d2aa6ca",
   "metadata": {},
   "source": [
    "## Strategy Drawback\n",
    "There are two drawbacks of the strategy:\n",
    "1. the inflow factor measures capital inflow from mainland investors. **The validity of information is related to the overall investment interests of mainland investors.** As we noticed in the backtest, the 3 factors all delivers very little and even negative return in 2018 and 2019. This is likely because investment interests of mainland investors reduces during the two years after the stock market tumbles amidst the Sino-US trade war."
   ]
  },
  {
   "cell_type": "code",
   "execution_count": 21,
   "id": "4aa810cd",
   "metadata": {
    "scrolled": false
   },
   "outputs": [
    {
     "data": {
      "text/html": [
       "<style type=\"text/css\">\n",
       "#T_484af_row0_col0, #T_484af_row1_col2, #T_484af_row2_col1, #T_484af_row3_col0, #T_484af_row4_col0, #T_484af_row5_col1 {\n",
       "  background-color: #f7fbff;\n",
       "  color: #000000;\n",
       "}\n",
       "#T_484af_row0_col1 {\n",
       "  background-color: #4f9bcb;\n",
       "  color: #f1f1f1;\n",
       "}\n",
       "#T_484af_row0_col2, #T_484af_row1_col0, #T_484af_row2_col2, #T_484af_row3_col1, #T_484af_row4_col2, #T_484af_row5_col2 {\n",
       "  background-color: #08306b;\n",
       "  color: #f1f1f1;\n",
       "}\n",
       "#T_484af_row1_col1 {\n",
       "  background-color: #2c7cba;\n",
       "  color: #f1f1f1;\n",
       "}\n",
       "#T_484af_row2_col0 {\n",
       "  background-color: #084c95;\n",
       "  color: #f1f1f1;\n",
       "}\n",
       "#T_484af_row3_col2 {\n",
       "  background-color: #083d7f;\n",
       "  color: #f1f1f1;\n",
       "}\n",
       "#T_484af_row4_col1 {\n",
       "  background-color: #083877;\n",
       "  color: #f1f1f1;\n",
       "}\n",
       "#T_484af_row5_col0 {\n",
       "  background-color: #cfe1f2;\n",
       "  color: #000000;\n",
       "}\n",
       "</style>\n",
       "<table id=\"T_484af_\">\n",
       "  <caption>Annual Returns (5-day inflow)</caption>\n",
       "  <thead>\n",
       "    <tr>\n",
       "      <th class=\"index_name level0\" >strategy</th>\n",
       "      <th class=\"col_heading level0 col0\" >absneu</th>\n",
       "      <th class=\"col_heading level0 col1\" >neu</th>\n",
       "      <th class=\"col_heading level0 col2\" >pure</th>\n",
       "    </tr>\n",
       "    <tr>\n",
       "      <th class=\"index_name level0\" >date</th>\n",
       "      <th class=\"blank col0\" >&nbsp;</th>\n",
       "      <th class=\"blank col1\" >&nbsp;</th>\n",
       "      <th class=\"blank col2\" >&nbsp;</th>\n",
       "    </tr>\n",
       "  </thead>\n",
       "  <tbody>\n",
       "    <tr>\n",
       "      <th id=\"T_484af_level0_row0\" class=\"row_heading level0 row0\" >2017</th>\n",
       "      <td id=\"T_484af_row0_col0\" class=\"data row0 col0\" >14.97%</td>\n",
       "      <td id=\"T_484af_row0_col1\" class=\"data row0 col1\" >22.83%</td>\n",
       "      <td id=\"T_484af_row0_col2\" class=\"data row0 col2\" >28.42%</td>\n",
       "    </tr>\n",
       "    <tr>\n",
       "      <th id=\"T_484af_level0_row1\" class=\"row_heading level0 row1\" >2018</th>\n",
       "      <td id=\"T_484af_row1_col0\" class=\"data row1 col0\" >0.40%</td>\n",
       "      <td id=\"T_484af_row1_col1\" class=\"data row1 col1\" >-2.62%</td>\n",
       "      <td id=\"T_484af_row1_col2\" class=\"data row1 col2\" >-9.96%</td>\n",
       "    </tr>\n",
       "    <tr>\n",
       "      <th id=\"T_484af_level0_row2\" class=\"row_heading level0 row2\" >2019</th>\n",
       "      <td id=\"T_484af_row2_col0\" class=\"data row2 col0\" >4.65%</td>\n",
       "      <td id=\"T_484af_row2_col1\" class=\"data row2 col1\" >2.05%</td>\n",
       "      <td id=\"T_484af_row2_col2\" class=\"data row2 col2\" >4.96%</td>\n",
       "    </tr>\n",
       "    <tr>\n",
       "      <th id=\"T_484af_level0_row3\" class=\"row_heading level0 row3\" >2020</th>\n",
       "      <td id=\"T_484af_row3_col0\" class=\"data row3 col0\" >18.81%</td>\n",
       "      <td id=\"T_484af_row3_col1\" class=\"data row3 col1\" >25.97%</td>\n",
       "      <td id=\"T_484af_row3_col2\" class=\"data row3 col2\" >25.58%</td>\n",
       "    </tr>\n",
       "    <tr>\n",
       "      <th id=\"T_484af_level0_row4\" class=\"row_heading level0 row4\" >2021</th>\n",
       "      <td id=\"T_484af_row4_col0\" class=\"data row4 col0\" >48.74%</td>\n",
       "      <td id=\"T_484af_row4_col1\" class=\"data row4 col1\" >76.27%</td>\n",
       "      <td id=\"T_484af_row4_col2\" class=\"data row4 col2\" >77.22%</td>\n",
       "    </tr>\n",
       "    <tr>\n",
       "      <th id=\"T_484af_level0_row5\" class=\"row_heading level0 row5\" >2022</th>\n",
       "      <td id=\"T_484af_row5_col0\" class=\"data row5 col0\" >-2.79%</td>\n",
       "      <td id=\"T_484af_row5_col1\" class=\"data row5 col1\" >-3.49%</td>\n",
       "      <td id=\"T_484af_row5_col2\" class=\"data row5 col2\" >-0.07%</td>\n",
       "    </tr>\n",
       "  </tbody>\n",
       "</table>\n"
      ],
      "text/plain": [
       "<pandas.io.formats.style.Styler at 0x24a24ebe908>"
      ]
     },
     "metadata": {},
     "output_type": "display_data"
    },
    {
     "data": {
      "text/html": [
       "<style type=\"text/css\">\n",
       "#T_58aed_row0_col0 {\n",
       "  background-color: #e3eef9;\n",
       "  color: #000000;\n",
       "}\n",
       "#T_58aed_row0_col1, #T_58aed_row1_col2, #T_58aed_row2_col2, #T_58aed_row3_col0, #T_58aed_row4_col1, #T_58aed_row5_col0 {\n",
       "  background-color: #f7fbff;\n",
       "  color: #000000;\n",
       "}\n",
       "#T_58aed_row0_col2, #T_58aed_row1_col0, #T_58aed_row2_col0, #T_58aed_row3_col1, #T_58aed_row4_col0, #T_58aed_row5_col2 {\n",
       "  background-color: #08306b;\n",
       "  color: #f1f1f1;\n",
       "}\n",
       "#T_58aed_row1_col1 {\n",
       "  background-color: #7cb7da;\n",
       "  color: #000000;\n",
       "}\n",
       "#T_58aed_row2_col1 {\n",
       "  background-color: #71b1d7;\n",
       "  color: #f1f1f1;\n",
       "}\n",
       "#T_58aed_row3_col2 {\n",
       "  background-color: #1865ac;\n",
       "  color: #f1f1f1;\n",
       "}\n",
       "#T_58aed_row4_col2 {\n",
       "  background-color: #d9e8f5;\n",
       "  color: #000000;\n",
       "}\n",
       "#T_58aed_row5_col1 {\n",
       "  background-color: #3a8ac2;\n",
       "  color: #f1f1f1;\n",
       "}\n",
       "</style>\n",
       "<table id=\"T_58aed_\">\n",
       "  <caption>Annual Returns (10-day inflow)</caption>\n",
       "  <thead>\n",
       "    <tr>\n",
       "      <th class=\"index_name level0\" >strategy</th>\n",
       "      <th class=\"col_heading level0 col0\" >absneu</th>\n",
       "      <th class=\"col_heading level0 col1\" >neu</th>\n",
       "      <th class=\"col_heading level0 col2\" >pure</th>\n",
       "    </tr>\n",
       "    <tr>\n",
       "      <th class=\"index_name level0\" >date</th>\n",
       "      <th class=\"blank col0\" >&nbsp;</th>\n",
       "      <th class=\"blank col1\" >&nbsp;</th>\n",
       "      <th class=\"blank col2\" >&nbsp;</th>\n",
       "    </tr>\n",
       "  </thead>\n",
       "  <tbody>\n",
       "    <tr>\n",
       "      <th id=\"T_58aed_level0_row0\" class=\"row_heading level0 row0\" >2017</th>\n",
       "      <td id=\"T_58aed_row0_col0\" class=\"data row0 col0\" >23.48%</td>\n",
       "      <td id=\"T_58aed_row0_col1\" class=\"data row0 col1\" >23.14%</td>\n",
       "      <td id=\"T_58aed_row0_col2\" class=\"data row0 col2\" >26.48%</td>\n",
       "    </tr>\n",
       "    <tr>\n",
       "      <th id=\"T_58aed_level0_row1\" class=\"row_heading level0 row1\" >2018</th>\n",
       "      <td id=\"T_58aed_row1_col0\" class=\"data row1 col0\" >16.16%</td>\n",
       "      <td id=\"T_58aed_row1_col1\" class=\"data row1 col1\" >9.66%</td>\n",
       "      <td id=\"T_58aed_row1_col2\" class=\"data row1 col2\" >4.11%</td>\n",
       "    </tr>\n",
       "    <tr>\n",
       "      <th id=\"T_58aed_level0_row2\" class=\"row_heading level0 row2\" >2019</th>\n",
       "      <td id=\"T_58aed_row2_col0\" class=\"data row2 col0\" >9.18%</td>\n",
       "      <td id=\"T_58aed_row2_col1\" class=\"data row2 col1\" >0.66%</td>\n",
       "      <td id=\"T_58aed_row2_col2\" class=\"data row2 col2\" >-7.40%</td>\n",
       "    </tr>\n",
       "    <tr>\n",
       "      <th id=\"T_58aed_level0_row3\" class=\"row_heading level0 row3\" >2020</th>\n",
       "      <td id=\"T_58aed_row3_col0\" class=\"data row3 col0\" >8.25%</td>\n",
       "      <td id=\"T_58aed_row3_col1\" class=\"data row3 col1\" >40.94%</td>\n",
       "      <td id=\"T_58aed_row3_col2\" class=\"data row3 col2\" >34.20%</td>\n",
       "    </tr>\n",
       "    <tr>\n",
       "      <th id=\"T_58aed_level0_row4\" class=\"row_heading level0 row4\" >2021</th>\n",
       "      <td id=\"T_58aed_row4_col0\" class=\"data row4 col0\" >47.36%</td>\n",
       "      <td id=\"T_58aed_row4_col1\" class=\"data row4 col1\" >41.31%</td>\n",
       "      <td id=\"T_58aed_row4_col2\" class=\"data row4 col2\" >42.23%</td>\n",
       "    </tr>\n",
       "    <tr>\n",
       "      <th id=\"T_58aed_level0_row5\" class=\"row_heading level0 row5\" >2022</th>\n",
       "      <td id=\"T_58aed_row5_col0\" class=\"data row5 col0\" >3.23%</td>\n",
       "      <td id=\"T_58aed_row5_col1\" class=\"data row5 col1\" >4.80%</td>\n",
       "      <td id=\"T_58aed_row5_col2\" class=\"data row5 col2\" >5.62%</td>\n",
       "    </tr>\n",
       "  </tbody>\n",
       "</table>\n"
      ],
      "text/plain": [
       "<pandas.io.formats.style.Styler at 0x24a24ebe908>"
      ]
     },
     "metadata": {},
     "output_type": "display_data"
    }
   ],
   "source": [
    "summary_tables3(y)"
   ]
  },
  {
   "cell_type": "markdown",
   "id": "38bf6d74",
   "metadata": {},
   "source": [
    "2. the strategies **may not deliver stable return**. We conducted backtests with different start dates and found that not all could deliver satisfying performance. The following tables show the summary statistics across backtests starting from different dates. The Sharpe ratio could range from 0.9 to 1.9, suggesting the high sensitivity of the strategy. \n",
    "\n",
    "Among the 3 factors, the neu inflow factor has the highest sharpe ratio even for its minimum sharpe ratio case. Its maximum drawdown is also smaller than the other two strategy. So this strategy is more recommended in terms of stability."
   ]
  },
  {
   "cell_type": "code",
   "execution_count": 22,
   "id": "64a0845f",
   "metadata": {
    "hide_input": false,
    "scrolled": false
   },
   "outputs": [
    {
     "data": {
      "text/html": [
       "<style type=\"text/css\">\n",
       "</style>\n",
       "<table id=\"T_27d34_\">\n",
       "  <caption>Summary Stats: pure</caption>\n",
       "  <thead>\n",
       "    <tr>\n",
       "      <th class=\"blank level0\" >&nbsp;</th>\n",
       "      <th class=\"col_heading level0 col0\" >max</th>\n",
       "      <th class=\"col_heading level0 col1\" >median</th>\n",
       "      <th class=\"col_heading level0 col2\" >min</th>\n",
       "    </tr>\n",
       "  </thead>\n",
       "  <tbody>\n",
       "    <tr>\n",
       "      <th id=\"T_27d34_level0_row0\" class=\"row_heading level0 row0\" >cum ret</th>\n",
       "      <td id=\"T_27d34_row0_col0\" class=\"data row0 col0\" >302.52%</td>\n",
       "      <td id=\"T_27d34_row0_col1\" class=\"data row0 col1\" >279.70%</td>\n",
       "      <td id=\"T_27d34_row0_col2\" class=\"data row0 col2\" >183.17%</td>\n",
       "    </tr>\n",
       "    <tr>\n",
       "      <th id=\"T_27d34_level0_row1\" class=\"row_heading level0 row1\" >annual ret</th>\n",
       "      <td id=\"T_27d34_row1_col0\" class=\"data row1 col0\" >25.40%</td>\n",
       "      <td id=\"T_27d34_row1_col1\" class=\"data row1 col1\" >23.41%</td>\n",
       "      <td id=\"T_27d34_row1_col2\" class=\"data row1 col2\" >13.17%</td>\n",
       "    </tr>\n",
       "    <tr>\n",
       "      <th id=\"T_27d34_level0_row2\" class=\"row_heading level0 row2\" >annual vol</th>\n",
       "      <td id=\"T_27d34_row2_col0\" class=\"data row2 col0\" >15.32%</td>\n",
       "      <td id=\"T_27d34_row2_col1\" class=\"data row2 col1\" >14.16%</td>\n",
       "      <td id=\"T_27d34_row2_col2\" class=\"data row2 col2\" >13.85%</td>\n",
       "    </tr>\n",
       "    <tr>\n",
       "      <th id=\"T_27d34_level0_row3\" class=\"row_heading level0 row3\" >mdd</th>\n",
       "      <td id=\"T_27d34_row3_col0\" class=\"data row3 col0\" >-9.98%</td>\n",
       "      <td id=\"T_27d34_row3_col1\" class=\"data row3 col1\" >-15.41%</td>\n",
       "      <td id=\"T_27d34_row3_col2\" class=\"data row3 col2\" >-21.45%</td>\n",
       "    </tr>\n",
       "    <tr>\n",
       "      <th id=\"T_27d34_level0_row4\" class=\"row_heading level0 row4\" >t-value</th>\n",
       "      <td id=\"T_27d34_row4_col0\" class=\"data row4 col0\" >375.23%</td>\n",
       "      <td id=\"T_27d34_row4_col1\" class=\"data row4 col1\" >344.86%</td>\n",
       "      <td id=\"T_27d34_row4_col2\" class=\"data row4 col2\" >212.36%</td>\n",
       "    </tr>\n",
       "    <tr>\n",
       "      <th id=\"T_27d34_level0_row5\" class=\"row_heading level0 row5\" >sharpe</th>\n",
       "      <td id=\"T_27d34_row5_col0\" class=\"data row5 col0\" >180.24%</td>\n",
       "      <td id=\"T_27d34_row5_col1\" class=\"data row5 col1\" >163.96%</td>\n",
       "      <td id=\"T_27d34_row5_col2\" class=\"data row5 col2\" >94.23%</td>\n",
       "    </tr>\n",
       "  </tbody>\n",
       "</table>\n"
      ],
      "text/plain": [
       "<pandas.io.formats.style.Styler at 0x24a250da408>"
      ]
     },
     "metadata": {},
     "output_type": "display_data"
    },
    {
     "data": {
      "text/html": [
       "<style type=\"text/css\">\n",
       "</style>\n",
       "<table id=\"T_ce375_\">\n",
       "  <caption>Summary Stats: neu</caption>\n",
       "  <thead>\n",
       "    <tr>\n",
       "      <th class=\"blank level0\" >&nbsp;</th>\n",
       "      <th class=\"col_heading level0 col0\" >max</th>\n",
       "      <th class=\"col_heading level0 col1\" >median</th>\n",
       "      <th class=\"col_heading level0 col2\" >min</th>\n",
       "    </tr>\n",
       "  </thead>\n",
       "  <tbody>\n",
       "    <tr>\n",
       "      <th id=\"T_ce375_level0_row0\" class=\"row_heading level0 row0\" >cum ret</th>\n",
       "      <td id=\"T_ce375_row0_col0\" class=\"data row0 col0\" >310.07%</td>\n",
       "      <td id=\"T_ce375_row0_col1\" class=\"data row0 col1\" >293.70%</td>\n",
       "      <td id=\"T_ce375_row0_col2\" class=\"data row0 col2\" >219.13%</td>\n",
       "    </tr>\n",
       "    <tr>\n",
       "      <th id=\"T_ce375_level0_row1\" class=\"row_heading level0 row1\" >annual ret</th>\n",
       "      <td id=\"T_ce375_row1_col0\" class=\"data row1 col0\" >26.04%</td>\n",
       "      <td id=\"T_ce375_row1_col1\" class=\"data row1 col1\" >24.65%</td>\n",
       "      <td id=\"T_ce375_row1_col2\" class=\"data row1 col2\" >17.40%</td>\n",
       "    </tr>\n",
       "    <tr>\n",
       "      <th id=\"T_ce375_level0_row2\" class=\"row_heading level0 row2\" >annual vol</th>\n",
       "      <td id=\"T_ce375_row2_col0\" class=\"data row2 col0\" >15.27%</td>\n",
       "      <td id=\"T_ce375_row2_col1\" class=\"data row2 col1\" >14.62%</td>\n",
       "      <td id=\"T_ce375_row2_col2\" class=\"data row2 col2\" >13.90%</td>\n",
       "    </tr>\n",
       "    <tr>\n",
       "      <th id=\"T_ce375_level0_row3\" class=\"row_heading level0 row3\" >mdd</th>\n",
       "      <td id=\"T_ce375_row3_col0\" class=\"data row3 col0\" >-9.64%</td>\n",
       "      <td id=\"T_ce375_row3_col1\" class=\"data row3 col1\" >-13.12%</td>\n",
       "      <td id=\"T_ce375_row3_col2\" class=\"data row3 col2\" >-15.27%</td>\n",
       "    </tr>\n",
       "    <tr>\n",
       "      <th id=\"T_ce375_level0_row4\" class=\"row_heading level0 row4\" >t-value</th>\n",
       "      <td id=\"T_ce375_row4_col0\" class=\"data row4 col0\" >377.12%</td>\n",
       "      <td id=\"T_ce375_row4_col1\" class=\"data row4 col1\" >348.81%</td>\n",
       "      <td id=\"T_ce375_row4_col2\" class=\"data row4 col2\" >254.87%</td>\n",
       "    </tr>\n",
       "    <tr>\n",
       "      <th id=\"T_ce375_level0_row5\" class=\"row_heading level0 row5\" >sharpe</th>\n",
       "      <td id=\"T_ce375_row5_col0\" class=\"data row5 col0\" >181.10%</td>\n",
       "      <td id=\"T_ce375_row5_col1\" class=\"data row5 col1\" >166.21%</td>\n",
       "      <td id=\"T_ce375_row5_col2\" class=\"data row5 col2\" >116.12%</td>\n",
       "    </tr>\n",
       "  </tbody>\n",
       "</table>\n"
      ],
      "text/plain": [
       "<pandas.io.formats.style.Styler at 0x24a253e5ac8>"
      ]
     },
     "metadata": {},
     "output_type": "display_data"
    },
    {
     "data": {
      "text/html": [
       "<style type=\"text/css\">\n",
       "</style>\n",
       "<table id=\"T_4ce0e_\">\n",
       "  <caption>Summary Stats: absneu</caption>\n",
       "  <thead>\n",
       "    <tr>\n",
       "      <th class=\"blank level0\" >&nbsp;</th>\n",
       "      <th class=\"col_heading level0 col0\" >max</th>\n",
       "      <th class=\"col_heading level0 col1\" >median</th>\n",
       "      <th class=\"col_heading level0 col2\" >min</th>\n",
       "    </tr>\n",
       "  </thead>\n",
       "  <tbody>\n",
       "    <tr>\n",
       "      <th id=\"T_4ce0e_level0_row0\" class=\"row_heading level0 row0\" >cum ret</th>\n",
       "      <td id=\"T_4ce0e_row0_col0\" class=\"data row0 col0\" >279.46%</td>\n",
       "      <td id=\"T_4ce0e_row0_col1\" class=\"data row0 col1\" >237.80%</td>\n",
       "      <td id=\"T_4ce0e_row0_col2\" class=\"data row0 col2\" >171.17%</td>\n",
       "    </tr>\n",
       "    <tr>\n",
       "      <th id=\"T_4ce0e_level0_row1\" class=\"row_heading level0 row1\" >annual ret</th>\n",
       "      <td id=\"T_4ce0e_row1_col0\" class=\"data row1 col0\" >23.39%</td>\n",
       "      <td id=\"T_4ce0e_row1_col1\" class=\"data row1 col1\" >19.37%</td>\n",
       "      <td id=\"T_4ce0e_row1_col2\" class=\"data row1 col2\" >11.62%</td>\n",
       "    </tr>\n",
       "    <tr>\n",
       "      <th id=\"T_4ce0e_level0_row2\" class=\"row_heading level0 row2\" >annual vol</th>\n",
       "      <td id=\"T_4ce0e_row2_col0\" class=\"data row2 col0\" >14.25%</td>\n",
       "      <td id=\"T_4ce0e_row2_col1\" class=\"data row2 col1\" >12.99%</td>\n",
       "      <td id=\"T_4ce0e_row2_col2\" class=\"data row2 col2\" >11.99%</td>\n",
       "    </tr>\n",
       "    <tr>\n",
       "      <th id=\"T_4ce0e_level0_row3\" class=\"row_heading level0 row3\" >mdd</th>\n",
       "      <td id=\"T_4ce0e_row3_col0\" class=\"data row3 col0\" >-8.35%</td>\n",
       "      <td id=\"T_4ce0e_row3_col1\" class=\"data row3 col1\" >-13.26%</td>\n",
       "      <td id=\"T_4ce0e_row3_col2\" class=\"data row3 col2\" >-22.51%</td>\n",
       "    </tr>\n",
       "    <tr>\n",
       "      <th id=\"T_4ce0e_level0_row4\" class=\"row_heading level0 row4\" >t-value</th>\n",
       "      <td id=\"T_4ce0e_row4_col0\" class=\"data row4 col0\" >376.35%</td>\n",
       "      <td id=\"T_4ce0e_row4_col1\" class=\"data row4 col1\" >304.84%</td>\n",
       "      <td id=\"T_4ce0e_row4_col2\" class=\"data row4 col2\" >192.50%</td>\n",
       "    </tr>\n",
       "    <tr>\n",
       "      <th id=\"T_4ce0e_level0_row5\" class=\"row_heading level0 row5\" >sharpe</th>\n",
       "      <td id=\"T_4ce0e_row5_col0\" class=\"data row5 col0\" >180.67%</td>\n",
       "      <td id=\"T_4ce0e_row5_col1\" class=\"data row5 col1\" >141.72%</td>\n",
       "      <td id=\"T_4ce0e_row5_col2\" class=\"data row5 col2\" >84.31%</td>\n",
       "    </tr>\n",
       "  </tbody>\n",
       "</table>\n"
      ],
      "text/plain": [
       "<pandas.io.formats.style.Styler at 0x24a250da308>"
      ]
     },
     "metadata": {},
     "output_type": "display_data"
    }
   ],
   "source": [
    "file = r'\\long_short\\return_v5.csv'\n",
    "path = r'C:\\Users\\arizonazhang\\OneDrive - hkaift\\research\\capflow'\n",
    "df = pd.read_csv(path + file, index_col = 0)\n",
    "df.loc[df.strategy == \"delta\",\"strategy\"] = \"pure\"\n",
    "df = df.set_index(\"date\")\n",
    "df.index = pd.to_datetime(df.index)\n",
    "for s in [\"pure\",\"neu\",\"absneu\"]:\n",
    "    #df[(df.n==10)&(df.strategy==s)].pivot(columns = \"lag\", values = \"M\").plot(title = 'backtests: {}'.format(s),style = '.', figsize= (20,10))\n",
    "    cum = df[(df.n==10)&(df.strategy==s)].pivot(columns = \"lag\", values = \"M\")\n",
    "    ret = df[(df.n==10)&(df.strategy==s)].pivot(columns = \"lag\", values = \"net_ret\")\n",
    "    ls = []\n",
    "    ls.append(cum.apply(total_ret))\n",
    "    ls.append(cum.apply(annual_ret))\n",
    "    ls.append(ret.apply(vol))\n",
    "    ls.append(cum.apply(mdd))\n",
    "    ls.append(ret.apply(tvalue))\n",
    "    y = []\n",
    "    df1 = pd.concat(ls, axis = 1)\n",
    "    df1.columns = [\"cum ret\", \"annual ret\", \"annual vol\", \"mdd\", \"t-value\"]\n",
    "    df1[\"sharpe\"] = df1[\"annual ret\"]/df1[\"annual vol\"]\n",
    "    #display(df1.T.style.set_caption(\"summary table: {}\".format(s)))\n",
    "    display(df1.T.agg([\"max\", \"median\", \"min\"], axis = 1).style.format('{:.2%}').set_caption(\"Summary Stats: {}\".format(s)))"
   ]
  },
  {
   "cell_type": "markdown",
   "id": "0fcc8ec3",
   "metadata": {},
   "source": [
    "# Conclusion"
   ]
  },
  {
   "cell_type": "markdown",
   "id": "150c624e",
   "metadata": {},
   "source": [
    "We investigated the inflow factor's effect in stock selection and found that the stocks with large inflow and outflow contain a valuable information in generating good return. In addition, two factors constructed based on this factor through neutralizing market cap exposure are also found to have alpha. \n",
    "\n",
    "Our strategy long the stocks ranking in the top 5% of factor values and short the stocks of the bottom 5% of the factor values. The strategies of the 3 factors all generated a Sharpe ratio of 1.7, displaying good market timing ability."
   ]
  }
 ],
 "metadata": {
  "hide_input": true,
  "kernelspec": {
   "display_name": "Python 3 (ipykernel)",
   "language": "python",
   "name": "python3"
  },
  "language_info": {
   "codemirror_mode": {
    "name": "ipython",
    "version": 3
   },
   "file_extension": ".py",
   "mimetype": "text/x-python",
   "name": "python",
   "nbconvert_exporter": "python",
   "pygments_lexer": "ipython3",
   "version": "3.9.7"
  },
  "toc": {
   "base_numbering": 1,
   "nav_menu": {},
   "number_sections": true,
   "sideBar": true,
   "skip_h1_title": false,
   "title_cell": "Table of Contents",
   "title_sidebar": "Contents",
   "toc_cell": false,
   "toc_position": {
    "height": "calc(100% - 180px)",
    "left": "10px",
    "top": "150px",
    "width": "384px"
   },
   "toc_section_display": true,
   "toc_window_display": false
  },
  "varInspector": {
   "cols": {
    "lenName": 16,
    "lenType": 16,
    "lenVar": 40
   },
   "kernels_config": {
    "python": {
     "delete_cmd_postfix": "",
     "delete_cmd_prefix": "del ",
     "library": "var_list.py",
     "varRefreshCmd": "print(var_dic_list())"
    },
    "r": {
     "delete_cmd_postfix": ") ",
     "delete_cmd_prefix": "rm(",
     "library": "var_list.r",
     "varRefreshCmd": "cat(var_dic_list()) "
    }
   },
   "types_to_exclude": [
    "module",
    "function",
    "builtin_function_or_method",
    "instance",
    "_Feature"
   ],
   "window_display": false
  }
 },
 "nbformat": 4,
 "nbformat_minor": 5
}
